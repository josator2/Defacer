{
  "cells": [
    {
      "cell_type": "markdown",
      "metadata": {
        "id": "view-in-github",
        "colab_type": "text"
      },
      "source": [
        "<a href=\"https://colab.research.google.com/github/josator2/Defacer/blob/master/notebooks/FeatureVisualizationWithClustering.ipynb\" target=\"_parent\"><img src=\"https://colab.research.google.com/assets/colab-badge.svg\" alt=\"Open In Colab\"/></a>"
      ]
    },
    {
      "cell_type": "markdown",
      "metadata": {
        "deletable": true,
        "editable": true,
        "id": "8uqqsJpllasL"
      },
      "source": [
        "# pyRadiomics feature visualization using multi-dimensional scaling and heatmaps\n",
        "\n",
        "pyRadiomics features can be used to classify and group images.  Three techniques will be demonstrated, multi-dimensional scaling for visual grouping of datasets, heatmaps to show correlations between features, and a clustermap to show hierarchial clustering of features.\n",
        "\n",
        "For more detailed examples and links to source code, visit http://radiomics.io\n",
        "\n",
        "In this example, we will download and process data provided by [Brigham and Women's Surgical Planning Lab](https://www.spl.harvard.edu/).  The data has kindly been made available by the SPL to support reproducible science.\n",
        "\n",
        "> Kaus M.R., Warfield S.K., Nabavi A., Black P.M., Jolesz F.A., Kikinis R. Automated Segmentation of Brain Tumors. SPL 2007 Dec http://www.spl.harvard.edu/publications/item/view/1180\n",
        "\n",
        "> Michael Kaus, Simon K. Warfield, Arya Nabavi, Peter M. Black, Ferenc A. Jolesz, and Ron Kikinis. Automated Segmentation of MRI of Brain Tumors.\n",
        "Radiology. 2001 Feb;218(2):586-91. http://www.spl.harvard.edu/publications/item/view/169\n",
        "\n",
        "> Simon K. Warfield, Michael Kaus, Ferenc A. Jolesz, and Ron Kikinis. Adaptive, Template Moderated, Spatially Varying Statistical Classification. Med Image Anal. 2000 Mar;4(1):43-55. http://www.spl.harvard.edu/publications/item/view/209\n"
      ]
    },
    {
      "cell_type": "code",
      "execution_count": null,
      "metadata": {
        "deletable": true,
        "editable": true,
        "id": "HgJD6UselasO"
      },
      "outputs": [],
      "source": [
        "# Download the zip file if it does not exist\n",
        "import os, zipfile\n",
        "import pandas as pd\n",
        "import seaborn as sns\n",
        "\n",
        "from six.moves import urllib\n",
        "!gdown 1dj_6ICOe9uog3y5xMj3CRMse7aMI7ZBb\n",
        "filename = 'Tumorbase.zip'\n",
        "extracted_path = 'example_data/tumorbase'\n",
        "if not os.path.isdir(extracted_path):\n",
        "    print (\"unzipping\")\n",
        "    z = zipfile.ZipFile(filename)\n",
        "    z.extractall('example_data')\n",
        "    print (\"done unzipping\")"
      ]
    },
    {
      "cell_type": "code",
      "source": [
        "!pip install simpleitk pyradiomics"
      ],
      "metadata": {
        "id": "fkvw3kBXli6T"
      },
      "execution_count": null,
      "outputs": []
    },
    {
      "cell_type": "code",
      "execution_count": 3,
      "metadata": {
        "deletable": true,
        "editable": true,
        "id": "7HfJ29rElasQ"
      },
      "outputs": [],
      "source": [
        "# Import some libraries\n",
        "import SimpleITK as sitk\n",
        "from radiomics import featureextractor"
      ]
    },
    {
      "cell_type": "markdown",
      "metadata": {
        "deletable": true,
        "editable": true,
        "id": "xWkmF-NblasQ"
      },
      "source": [
        "# Extract features\n",
        "\n",
        "Next we loop over all cases (`case_id` from 1 to 10), reading each image and label.  The label map contains a `6` at each voxel containing tumor.  The `radiomics` package expects `0` and `1`, so we need to use the `BinaryThreshold` filter to extract the right labels."
      ]
    },
    {
      "cell_type": "code",
      "execution_count": null,
      "metadata": {
        "deletable": true,
        "editable": true,
        "id": "-CxqtViUlasQ"
      },
      "outputs": [],
      "source": [
        "# Load up the segmentations, 1 to 10 and extract the features\n",
        "!wget https://raw.githubusercontent.com/AIM-Harvard/pyradiomics/master/examples/exampleSettings/Params.yaml -O Params.yaml\n",
        "#params = os.path.join(os.getcwd(), '..', 'examples', 'exampleSettings', 'Params.yaml')\n",
        "params = \"/content/Params.yaml\"\n",
        "\n",
        "extractor = featureextractor.RadiomicsFeatureExtractor(params)\n",
        "# hang on to all our features\n",
        "features = {}\n",
        "\n",
        "for case_id in range(1,11):\n",
        "    path = 'example_data/tumorbase/AutomatedSegmentation/case{}/'.format(case_id)\n",
        "    image = sitk.ReadImage(path + \"grayscale.nrrd\")\n",
        "    mask = sitk.ReadImage(path + \"segmented.nrrd\")\n",
        "    # Tumor is in label value 6\n",
        "    features[case_id] = extractor.execute ( image, mask, label=6 )\n",
        "    \n",
        "\n",
        "# A list of the valid features, sorted\n",
        "feature_names = list(sorted(filter ( lambda k: k.startswith(\"original_\"), features[1] )))"
      ]
    },
    {
      "cell_type": "code",
      "execution_count": 5,
      "metadata": {
        "deletable": true,
        "editable": true,
        "id": "N9IIReoOlasR"
      },
      "outputs": [],
      "source": [
        "# Make a numpy array of all the values\n",
        "import numpy as np\n",
        "\n",
        "samples = np.zeros((10,len(feature_names)))\n",
        "for case_id in range(1,11):\n",
        "    a = np.array([])\n",
        "    for feature_name in feature_names:\n",
        "        a = np.append(a, features[case_id][feature_name])\n",
        "    samples[case_id-1,:] = a\n",
        "    \n",
        "# May have NaNs\n",
        "samples = np.nan_to_num(samples)"
      ]
    },
    {
      "cell_type": "markdown",
      "metadata": {
        "deletable": true,
        "editable": true,
        "id": "XgDq90CslasR"
      },
      "source": [
        "# Multidimensional scaling\n",
        "\n",
        "[Multidimensional scaling or MDS](https://en.wikipedia.org/wiki/Multidimensional_scaling) is as way to visualize very high dimensional data in a lower dimensional space.  In our case, the feature space is `len(feature_names)` (or 93) dimensional space.  To help us understand the data, we project into 2d space.  MDS preserves the relative distance between sample points during the projection, so two samples close together in 2d space would also be close together in the original 93-dimensional space (and *vice versa*).\n",
        "\n",
        "We us non-metric algorithm, because our data are highly non uniform in the scale of each feature."
      ]
    },
    {
      "cell_type": "code",
      "execution_count": 6,
      "metadata": {
        "deletable": true,
        "editable": true,
        "id": "BQ2OAt3MlasR"
      },
      "outputs": [],
      "source": [
        "from sklearn import manifold\n",
        "from sklearn.metrics import euclidean_distances\n",
        "from sklearn.decomposition import PCA\n",
        "\n",
        "similarities = euclidean_distances(samples)\n",
        "\n",
        "\n",
        "seed = np.random.RandomState(seed=3)\n",
        "\n",
        "mds = manifold.MDS(n_components=2, max_iter=5000, eps=1e-12, random_state=seed,\n",
        "                   n_init=10,\n",
        "                   dissimilarity=\"precomputed\", n_jobs=1, metric=False)\n",
        "pos = mds.fit_transform(similarities)"
      ]
    },
    {
      "cell_type": "markdown",
      "metadata": {
        "deletable": true,
        "editable": true,
        "id": "Q1WYjvZQlasS"
      },
      "source": [
        "# Plot\n",
        "\n",
        "Here we use the results.  **NB:** there are two points in the \"green-ish\" colored circle in the center of the plot.\n",
        "\n",
        "Looking over our features, it's likely that meningioma and astrocytoma could be distinguisted by a classifier (based on our rather limited data set), but, in at least one case, glioma and astrocytoma features are relatively close together."
      ]
    },
    {
      "cell_type": "code",
      "execution_count": null,
      "metadata": {
        "deletable": true,
        "editable": true,
        "id": "tbgTKeHElasS"
      },
      "outputs": [],
      "source": [
        "# Plot\n",
        "\n",
        "from matplotlib import pyplot as plt\n",
        "from matplotlib.collections import LineCollection\n",
        "import matplotlib.cm as cm\n",
        "\n",
        "\n",
        "fig = plt.figure(1)\n",
        "ax = plt.axes([0., 0., 1., 1.])\n",
        "\n",
        "s = 100\n",
        "\n",
        "# Type of tumor\n",
        "meningioma = [0, 1, 2]\n",
        "glioma = [3,5,9]\n",
        "astrocytoma = [4, 6, 7, 8]\n",
        "\n",
        "plt.scatter(pos[meningioma, 0], pos[meningioma, 1], color='navy', alpha=1.0, s=s, lw=1, label='meningioma')\n",
        "plt.scatter(pos[glioma, 0], pos[glioma, 1], color='turquoise', alpha=1.0, s=s, lw=1, label='glioma')\n",
        "plt.scatter(pos[astrocytoma, 0], pos[astrocytoma, 1], color='darkorange', alpha=0.5, s=s, lw=1, label='astrocytoma')\n",
        "\n",
        "plt.legend(scatterpoints=1, loc=5, shadow=False)\n",
        "\n",
        "similarities = similarities.max() / similarities * 100\n",
        "similarities[np.isinf(similarities)] = 0\n",
        "plt.show()"
      ]
    },
    {
      "cell_type": "markdown",
      "metadata": {
        "deletable": true,
        "editable": true,
        "id": "Bbmaj6l-lasT"
      },
      "source": [
        "# Plot features as a heatmap\n",
        "\n",
        "A heat map gives the correlation of features to each other, red indicating positive correlation, and blue negative.  A heatmap may be clustered to show groupings of features that are similar."
      ]
    },
    {
      "cell_type": "code",
      "execution_count": null,
      "metadata": {
        "deletable": true,
        "editable": true,
        "scrolled": false,
        "id": "5ecqIaFAlasT"
      },
      "outputs": [],
      "source": [
        "import pandas as pd\n",
        "import seaborn as sns\n",
        "\n",
        "# type of each tumor\n",
        "types =['meningioma', 'meningioma', 'meningioma', 'glioma', 'astrocytoma', 'glioma', 'astrocytoma', 'astrocytoma', 'astrocytoma', 'glioma']\n",
        "\n",
        "# Construct a pandas dataframe from the samples\n",
        "d = pd.DataFrame(data=samples, columns=feature_names, index=types)\n",
        "\n",
        "corr = d.corr()\n",
        "\n",
        "# Set up the matplotlib figure, make it big!\n",
        "f, ax = plt.subplots(figsize=(15, 10))\n",
        "\n",
        "# Draw the heatmap using seaborn\n",
        "sns.heatmap(corr, vmax=.8, square=True)"
      ]
    },
    {
      "cell_type": "markdown",
      "metadata": {
        "deletable": true,
        "editable": true,
        "id": "mRJTStXolasT"
      },
      "source": [
        "# Cluster the heatmap\n",
        "\n",
        "Though useful, heatmaps tell a much better story if the features are clustered.  Here we take a smaller subset of the features and cluster.  In the [dendrogram](https://en.wikipedia.org/wiki/Dendrogram), there are 2 major groups, and many smaller groupings based on features. "
      ]
    },
    {
      "cell_type": "code",
      "execution_count": 11,
      "metadata": {
        "deletable": true,
        "editable": true,
        "id": "4qq3cpiNlasT"
      },
      "outputs": [],
      "source": [
        "# Choose a subset of features for clustering\n",
        "dd = d.iloc[:,1:50]\n",
        "\n",
        "# sns.clustermap(d, linewidths=.5, figsize=(13,13))\n",
        "m = d.values\n",
        "\n",
        "from scipy.cluster.hierarchy import dendrogram, linkage\n",
        "\n",
        "Z = linkage(m,'ward')"
      ]
    },
    {
      "cell_type": "code",
      "execution_count": null,
      "metadata": {
        "scrolled": false,
        "id": "BuiO-lZ2lasU"
      },
      "outputs": [],
      "source": [
        "plt.figure(figsize=(25, 10))\n",
        "plt.title('Hierarchical Clustering Dendrogram')\n",
        "plt.xlabel('sample index')\n",
        "plt.ylabel('distance')\n",
        "dendrogram(\n",
        "    Z,\n",
        "    leaf_rotation=90.,  # rotates the x axis labels\n",
        "    leaf_font_size=8.,  # font size for the x axis labels\n",
        ")\n",
        "plt.show()"
      ]
    },
    {
      "cell_type": "code",
      "execution_count": null,
      "metadata": {
        "id": "2gI6gHsylasU"
      },
      "outputs": [],
      "source": [
        "d.head()"
      ]
    },
    {
      "cell_type": "code",
      "execution_count": null,
      "metadata": {
        "id": "QnIlAzEqlasU"
      },
      "outputs": [],
      "source": [
        "pp = sns.clustermap(d, col_cluster=False, metric='chebyshev', z_score=1)\n",
        "_ = plt.setp(pp.ax_heatmap.get_yticklabels(), rotation=0)\n",
        "plt.show()"
      ]
    },
    {
      "cell_type": "code",
      "source": [
        ""
      ],
      "metadata": {
        "id": "89CZv0MpnNes"
      },
      "execution_count": null,
      "outputs": []
    }
  ],
  "metadata": {
    "kernelspec": {
      "display_name": "Python 2",
      "language": "python",
      "name": "python2"
    },
    "language_info": {
      "codemirror_mode": {
        "name": "ipython",
        "version": 2
      },
      "file_extension": ".py",
      "mimetype": "text/x-python",
      "name": "python",
      "nbconvert_exporter": "python",
      "pygments_lexer": "ipython2",
      "version": "2.7.11"
    },
    "colab": {
      "name": "FeatureVisualizationWithClustering.ipynb",
      "provenance": [],
      "include_colab_link": true
    }
  },
  "nbformat": 4,
  "nbformat_minor": 0
}