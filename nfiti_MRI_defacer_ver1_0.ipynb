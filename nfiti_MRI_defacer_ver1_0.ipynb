{
 "cells": [
  {
   "cell_type": "markdown",
   "metadata": {},
   "source": [
    "# ROI detection (segmentation) defacer ver 1.0\n",
    "## Asan Medical Center\n",
    "\n",
    "  \n",
    "#### &nbsp;"
   ]
  },
  {
   "cell_type": "code",
   "execution_count": 1,
   "metadata": {},
   "outputs": [
    {
     "data": {
      "text/plain": [
       "'\\n# Dependencies:\\n# Using tensorflow backend\\n\\n!pip install keras\\n!pip install nibabel\\n!pip install SimpleITK\\n!pip install sklearn\\n'"
      ]
     },
     "execution_count": 1,
     "metadata": {},
     "output_type": "execute_result"
    }
   ],
   "source": [
    "'''\n",
    "# Dependencies:\n",
    "# Using tensorflow backend\n",
    "\n",
    "!pip install keras\n",
    "!pip install nibabel\n",
    "!pip install SimpleITK\n",
    "!pip install sklearn\n",
    "'''\n",
    "\n"
   ]
  },
  {
   "cell_type": "code",
   "execution_count": 1,
   "metadata": {},
   "outputs": [
    {
     "name": "stderr",
     "output_type": "stream",
     "text": [
      "Using TensorFlow backend.\n"
     ]
    }
   ],
   "source": [
    "import os\n",
    "import glob\n",
    "import math\n",
    "import time\n",
    "import datetime as dt\n",
    "import numpy as np\n",
    "import nibabel as nib\n",
    "import SimpleITK as sitk\n",
    "import random\n",
    "from scipy import ndimage\n",
    "from skimage.measure import label, regionprops\n",
    "from skimage.morphology import remove_small_objects\n",
    "import matplotlib.pyplot as plt\n",
    "from matplotlib import colors\n",
    "\n",
    "from keras import backend as K\n",
    "from keras.optimizers import Adam, SGD\n",
    "\n",
    "\n",
    "from keras.models import Model\n",
    "from keras.utils import to_categorical\n",
    "\n",
    "from skimage.filters import threshold_triangle\n",
    "from skimage.morphology import remove_small_holes\n",
    "from skimage.measure import marching_cubes_lewiner\n",
    "\n",
    "from keras import layers, initializers, regularizers, constraints\n",
    "from keras.layers import Layer, InputSpec\n",
    "from keras.layers import Dense, Activation, Flatten, Input, Convolution3D, MaxPooling3D, UpSampling3D, ZeroPadding3D,  BatchNormalization, concatenate, Conv3D\n",
    "from keras.layers import Lambda, ReLU, Multiply, Reshape, ThresholdedReLU\n",
    "from keras.layers import Input, Conv3D, MaxPooling3D, UpSampling3D, ZeroPadding3D, Cropping3D, Conv3DTranspose, GlobalAveragePooling3D\n",
    "from keras.layers import BatchNormalization, GaussianNoise\n",
    "from keras.layers import concatenate, add, multiply\n",
    "from keras.layers import Activation\n"
   ]
  },
  {
   "cell_type": "markdown",
   "metadata": {},
   "source": [
    "# Load Data"
   ]
  },
  {
   "cell_type": "code",
   "execution_count": 2,
   "metadata": {},
   "outputs": [],
   "source": [
    "config = dict() #configuration info"
   ]
  },
  {
   "cell_type": "code",
   "execution_count": 3,
   "metadata": {},
   "outputs": [],
   "source": [
    "## training set folder directory tree\n",
    "'''\n",
    "training set folder\n",
    "├─image\n",
    "│  └─Nifti files\n",
    "│      \n",
    "├─label\n",
    "   └─Nifti files\n",
    "'''\n",
    "\n",
    "# \n",
    "config[\"path_train\"] = 'D:/brainData/defaceTrain' \n",
    "config[\"vaild_portion\"] = 0.1\n",
    "\n",
    "\n",
    "\n",
    "#하위 디렉토리에 image, label 파일이 있어야 한다. 그 파일 안에 .nii.gz형태의 파일을 불러온다.\n",
    "list_train_image = glob.glob(os.path.join(config[\"path_train\"],'image/*.nii.gz'))\n",
    "list_train_label = glob.glob(os.path.join(config[\"path_train\"],'label/*.nii.gz'))\n",
    "valid_num = math.ceil(len(list_train_image)*config[\"vaild_portion\"])\n",
    "\n",
    "x_train =list_train_image[0:-valid_num]\n",
    "y_train =list_train_label[0:-valid_num]\n",
    "x_valid =list_train_image[-valid_num:]\n",
    "y_valid =list_train_label[-valid_num:]"
   ]
  },
  {
   "cell_type": "code",
   "execution_count": 4,
   "metadata": {},
   "outputs": [
    {
     "name": "stdout",
     "output_type": "stream",
     "text": [
      "training set :  247 \n",
      "\n",
      "validation set :  28\n"
     ]
    }
   ],
   "source": [
    "# 제대로 들어갔는지 확인 \n",
    "print ( \n",
    "    'training set : ', len(x_train),\n",
    "    '\\n\\nvalidation set : ', len(x_valid), \n",
    "    \n",
    ")"
   ]
  },
  {
   "cell_type": "markdown",
   "metadata": {},
   "source": [
    "# Data Augmentation"
   ]
  },
  {
   "cell_type": "code",
   "execution_count": 5,
   "metadata": {},
   "outputs": [],
   "source": [
    "import keras_image_preprocessing1\n",
    "datagen = keras_image_preprocessing1.ImageDataGenerator(\n",
    "                                        rotation_range=[15.,15.,15.],\n",
    "                                        zoom_range=[0.90, 1.10],\n",
    "                                        width_shift_range=0.10,\n",
    "                                        height_shift_range=0.10,\n",
    "                                        depth_shift_range=0.10,\n",
    "                                        shear_range=0.20,\n",
    "                                        horizontal_flip=True,\n",
    "                                        vertical_flip=True,\n",
    "                                        depthly_flip=True,\n",
    "                                        fill_mode='constant',cval=0.)"
   ]
  },
  {
   "cell_type": "code",
   "execution_count": 6,
   "metadata": {},
   "outputs": [],
   "source": [
    "def data_aug(img, label):\n",
    "    \n",
    "    seed = np.random.randint(0, 100, 1)[0]\n",
    "    for img in datagen.flow(img, batch_size=1, seed = seed ):\n",
    "        break\n",
    "    for label in datagen.flow(label, batch_size=1, seed = seed):\n",
    "        break\n",
    "    return img, label"
   ]
  },
  {
   "cell_type": "code",
   "execution_count": 7,
   "metadata": {},
   "outputs": [],
   "source": [
    "config['aug_index']= 3 # generate augmentation images per single training data."
   ]
  },
  {
   "cell_type": "markdown",
   "metadata": {},
   "source": [
    "# 3D Unet Model "
   ]
  },
  {
   "cell_type": "code",
   "execution_count": 5,
   "metadata": {
    "slideshow": {
     "slide_type": "-"
    }
   },
   "outputs": [],
   "source": [
    "#configure parameter & hyper parameter\n",
    "\n",
    "config[\"img_channel\"] = 1\n",
    "config[\"num_multilabel\"] = 4 # the number of label (channel last)\n",
    "config[\"noise\"] = 0.1\n",
    "config[\"batch_size\"] = 1 # 3D segmentation learning needs too large GPU memory to increase batch size. # this script is optimized for single batch size \n",
    "config[\"resizing\"] = True #True -> resize input image for learning. if you don't have enough GPU memory.\n",
    "config[\"input_shape\"] = [128, 128, 128, 1] # smaller GPU memory smaller image size\n",
    "\n",
    "    \n",
    "config[\"epochs\"] = 15 "
   ]
  },
  {
   "cell_type": "code",
   "execution_count": 6,
   "metadata": {},
   "outputs": [],
   "source": [
    "# loss function\n",
    "\n",
    "def dice_score(y_true, y_pred):\n",
    "    smooth = 1.\n",
    "    label_length = y_pred.get_shape().as_list()[-1] #the number of label (channel last)\n",
    "    \n",
    "    loss = 0    \n",
    "    for num_labels in range(label_length):\n",
    "        y_true_f = K.flatten(y_true[..., num_labels])\n",
    "        y_pred_f = K.flatten(y_pred[..., num_labels])\n",
    "        intersection = K.sum(y_true_f * y_pred_f)\n",
    "        loss += (2. * intersection + smooth) / (K.sum(y_true_f) + K.sum(y_pred_f) + smooth)\n",
    "   \n",
    "    return loss/label_length \n",
    "\n",
    "def dice_loss(y_true, y_pred):\n",
    "    return 1-dice_score(y_true, y_pred)\n",
    "'''\n",
    "Dice = (2*|X & Y|)/ (|X|+ |Y|)\n",
    "         =  2*sum(|A*B|)/(sum(A^2)+sum(B^2))\n",
    "    \n",
    "'''\n",
    "\n",
    "\n",
    "def tversky_loss(beta): # beta : [0,1] the bigger beta, the more penaly on False Positive\n",
    "    def t_loss(y_true, y_pred):\n",
    "        loss = 0\n",
    "        label_length = y_pred.get_shape().as_list()[-1] # the number of label (channel last)\n",
    "        smooth = 1\n",
    "        \n",
    "        for num_labels in range(label_length):\n",
    "            y_true_f = K.flatten(y_true[..., num_labels])\n",
    "            y_pred_f = K.flatten(y_pred[..., num_labels])\n",
    "            numerator = K.sum(y_true_f * y_pred_f)\n",
    "            denominator = y_true_f * y_pred_f + beta * (1 - y_true_f) * y_pred_f + (1 - beta) * y_true_f * (1 - y_pred_f)\n",
    "            loss += (numerator+ smooth) / (K.sum(denominator) + smooth)\n",
    "        return 1-(loss / label_length)\n",
    "        \n",
    "    return t_loss\n",
    "\n",
    "\n",
    "\n",
    "def focal_tversky(y_true,y_pred):\n",
    "    pt_1 = tversky_loss(0.7)(y_true, y_pred)\n",
    "    gamma = 0.75\n",
    "    return K.pow((1-pt_1), gamma)\n",
    "\n",
    "\n",
    "def resize(data, img_dep=config[\"input_shape\"][0], img_cols=config[\"input_shape\"][1], img_rows=config[\"input_shape\"][2]):\n",
    "    resize_factor = (img_dep/data.shape[0], img_cols/data.shape[1], img_rows/data.shape[2])\n",
    "    data = ndimage.zoom(data, resize_factor, order=0, mode='constant', cval=0.0)\n",
    "    return data\n",
    "'''\n",
    "ndimage.zoom(어레이 데이터 인풋,축별로zoom factor. 숫자하나면 각축에 적용.,\n",
    "The order of the spline interpolation. 0-5까지 옵션있음 ,\n",
    "\n",
    "'''\n",
    "\n",
    "    \n",
    "# keras_contrib.layers.InstanceNormalization\n",
    "# https://github.com/keras-team/keras-contrib/blob/master/keras_contrib/layers/normalization/instancenormalization.py\n",
    "class InstanceNormalization(Layer):\n",
    "    \"\"\"Instance normalization layer.\n",
    "    Normalize the activations of the previous layer at each step,\n",
    "    i.e. applies a transformation that maintains the mean activation\n",
    "    close to 0 and the activation standard deviation close to 1.\n",
    "    # Arguments\n",
    "        axis: Integer, the axis that should be normalized\n",
    "            (typically the features axis).\n",
    "            For instance, after a `Conv2D` layer with\n",
    "            `data_format=\"channels_first\"`,\n",
    "            set `axis=1` in `InstanceNormalization`.\n",
    "            Setting `axis=None` will normalize all values in each\n",
    "            instance of the batch.\n",
    "            Axis 0 is the batch dimension. `axis` cannot be set to 0 to avoid errors.\n",
    "        epsilon: Small float added to variance to avoid dividing by zero.\n",
    "        center: If True, add offset of `beta` to normalized tensor.\n",
    "            If False, `beta` is ignored.\n",
    "        scale: If True, multiply by `gamma`.\n",
    "            If False, `gamma` is not used.\n",
    "            When the next layer is linear (also e.g. `nn.relu`),\n",
    "            this can be disabled since the scaling\n",
    "            will be done by the next layer.\n",
    "        beta_initializer: Initializer for the beta weight.\n",
    "        gamma_initializer: Initializer for the gamma weight.\n",
    "        beta_regularizer: Optional regularizer for the beta weight.\n",
    "        gamma_regularizer: Optional regularizer for the gamma weight.\n",
    "        beta_constraint: Optional constraint for the beta weight.\n",
    "        gamma_constraint: Optional constraint for the gamma weight.\n",
    "    # Input shape\n",
    "        Arbitrary. Use the keyword argument `input_shape`\n",
    "        (tuple of integers, does not include the samples axis)\n",
    "        when using this layer as the first layer in a Sequential model.\n",
    "    # Output shape\n",
    "        Same shape as input.\n",
    "    # References\n",
    "        - [Layer Normalization](https://arxiv.org/abs/1607.06450)\n",
    "        - [Instance Normalization: The Missing Ingredient for Fast Stylization](\n",
    "        https://arxiv.org/abs/1607.08022)\n",
    "    \"\"\"\n",
    "    def __init__(self,\n",
    "                 axis=None,\n",
    "                 epsilon=1e-3,\n",
    "                 center=True,\n",
    "                 scale=True,\n",
    "                 beta_initializer='zeros',\n",
    "                 gamma_initializer='ones',\n",
    "                 beta_regularizer=None,\n",
    "                 gamma_regularizer=None,\n",
    "                 beta_constraint=None,\n",
    "                 gamma_constraint=None,\n",
    "                 **kwargs):\n",
    "        super(InstanceNormalization, self).__init__(**kwargs)\n",
    "        self.supports_masking = True\n",
    "        self.axis = axis\n",
    "        self.epsilon = epsilon\n",
    "        self.center = center\n",
    "        self.scale = scale\n",
    "        self.beta_initializer = initializers.get(beta_initializer)\n",
    "        self.gamma_initializer = initializers.get(gamma_initializer)\n",
    "        self.beta_regularizer = regularizers.get(beta_regularizer)\n",
    "        self.gamma_regularizer = regularizers.get(gamma_regularizer)\n",
    "        self.beta_constraint = constraints.get(beta_constraint)\n",
    "        self.gamma_constraint = constraints.get(gamma_constraint)\n",
    "\n",
    "    def build(self, input_shape):\n",
    "        ndim = len(input_shape)\n",
    "        if self.axis == 0:\n",
    "            raise ValueError('Axis cannot be zero')\n",
    "\n",
    "        if (self.axis is not None) and (ndim == 2):\n",
    "            raise ValueError('Cannot specify axis for rank 1 tensor')\n",
    "\n",
    "        self.input_spec = InputSpec(ndim=ndim)\n",
    "\n",
    "        if self.axis is None:\n",
    "            shape = (1,)\n",
    "        else:\n",
    "            shape = (input_shape[self.axis],)\n",
    "\n",
    "        if self.scale:\n",
    "            self.gamma = self.add_weight(shape=shape,\n",
    "                                         name='gamma',\n",
    "                                         initializer=self.gamma_initializer,\n",
    "                                         regularizer=self.gamma_regularizer,\n",
    "                                         constraint=self.gamma_constraint)\n",
    "        else:\n",
    "            self.gamma = None\n",
    "        if self.center:\n",
    "            self.beta = self.add_weight(shape=shape,\n",
    "                                        name='beta',\n",
    "                                        initializer=self.beta_initializer,\n",
    "                                        regularizer=self.beta_regularizer,\n",
    "                                        constraint=self.beta_constraint)\n",
    "        else:\n",
    "            self.beta = None\n",
    "        self.built = True\n",
    "\n",
    "    def call(self, inputs, training=None):\n",
    "        input_shape = K.int_shape(inputs)\n",
    "        reduction_axes = list(range(0, len(input_shape)))\n",
    "\n",
    "        if self.axis is not None:\n",
    "            del reduction_axes[self.axis]\n",
    "\n",
    "        del reduction_axes[0]\n",
    "\n",
    "        mean = K.mean(inputs, reduction_axes, keepdims=True)\n",
    "        stddev = K.std(inputs, reduction_axes, keepdims=True) + self.epsilon\n",
    "        normed = (inputs - mean) / stddev\n",
    "\n",
    "        broadcast_shape = [1] * len(input_shape)\n",
    "        if self.axis is not None:\n",
    "            broadcast_shape[self.axis] = input_shape[self.axis]\n",
    "\n",
    "        if self.scale:\n",
    "            broadcast_gamma = K.reshape(self.gamma, broadcast_shape)\n",
    "            normed = normed * broadcast_gamma\n",
    "        if self.center:\n",
    "            broadcast_beta = K.reshape(self.beta, broadcast_shape)\n",
    "            normed = normed + broadcast_beta\n",
    "        return normed\n",
    "\n",
    "    def get_config(self):\n",
    "        config = {\n",
    "            'axis': self.axis,\n",
    "            'epsilon': self.epsilon,\n",
    "            'center': self.center,\n",
    "            'scale': self.scale,\n",
    "            'beta_initializer': initializers.serialize(self.beta_initializer),\n",
    "            'gamma_initializer': initializers.serialize(self.gamma_initializer),\n",
    "            'beta_regularizer': regularizers.serialize(self.beta_regularizer),\n",
    "            'gamma_regularizer': regularizers.serialize(self.gamma_regularizer),\n",
    "            'beta_constraint': constraints.serialize(self.beta_constraint),\n",
    "            'gamma_constraint': constraints.serialize(self.gamma_constraint)\n",
    "        }\n",
    "        base_config = super(InstanceNormalization, self).get_config()\n",
    "        return dict(list(base_config.items()) + list(config.items()))"
   ]
  },
  {
   "cell_type": "code",
   "execution_count": 11,
   "metadata": {},
   "outputs": [],
   "source": [
    "#InstanceNormalization\n",
    "def unet_model(input_shape, num_labels, axis=-1, base_filter=16, se_res_block=True, se_ratio=16, noise=0.1, atten_gate=False):\n",
    "    def conv3d(layer_input, filters, axis=-1, se_res_block=True, se_ratio=-1, down_sizing=True):\n",
    "        if down_sizing == True:\n",
    "            layer_input = MaxPooling3D(pool_size=(2, 2, 2))(layer_input)\n",
    "\n",
    "        d1 = Conv3D(filters, (3, 3, 3), use_bias=False, padding='same')(layer_input)\n",
    "        d1 = InstanceNormalization(axis=axis)(d1)\n",
    "        d1 = ReLU()(d1)\n",
    "        \n",
    "        d = Conv3D(filters, (3, 3, 3), use_bias=False, padding='same')(d1)\n",
    "        d = InstanceNormalization(axis=axis)(d)\n",
    "        if se_res_block == True:\n",
    "            se = GlobalAveragePooling3D()(d)\n",
    "            se = Dense(filters // se_ratio, activation='relu')(se)\n",
    "            se = Dense(filters, activation='sigmoid')(se)\n",
    "            se = Reshape([1, 1, 1, filters])(se)\n",
    "            d = Multiply()([d, se])\n",
    "            shortcut = InstanceNormalization(axis=axis)(d1)\n",
    "            d = add([d, shortcut])\n",
    "        d = ReLU()(d)\n",
    "        return d\n",
    "\n",
    "    def deconv3d(layer_input, skip_input, filters, axis=-1, se_res_block=True, se_ratio=8, atten_gate=False):\n",
    "        if atten_gate == True:\n",
    "            gating = Conv3D(filters, (1, 1, 1), use_bias=True,  padding='valid')(layer_input)\n",
    "            gating = InstanceNormalization(axis=axis)(gating)\n",
    "            attention = Conv3D(filters, (2, 2, 2), strides=(2, 2, 2), use_bias=False,  padding='valid')(skip_input)\n",
    "            attention = InstanceNormalization(axis=axis)(attention)\n",
    "            attention = add([gating, attention])\n",
    "            attention = ReLU()(attention)\n",
    "            attention = Conv3D(1, (1, 1, 1), use_bias=False, \n",
    "                               padding='same', activation='sigmoid')(attention)\n",
    "           \n",
    "            \n",
    "            attention = UpSampling3D((2, 2, 2))(attention)\n",
    "            attention = Lambda(lambda x: K.tile(\n",
    "                x, [1, 1, 1, 1, filters]))(attention)\n",
    "            skip_input = Multiply()([attention, skip_input])\n",
    "            \n",
    "        #one deconv \n",
    "        u1 = Conv3DTranspose(filters, (2, 2, 2), strides=(2, 2, 2), use_bias=False,  padding='same')(layer_input)\n",
    "        u1 = InstanceNormalization(axis=axis)(u1)\n",
    "        u1 = ReLU()(u1)\n",
    "        u1 = concatenate([u1, skip_input],axis=axis)\n",
    "        \n",
    "        #two conv \n",
    "        u2 = Conv3D(filters, (3, 3, 3), use_bias=False,  padding='same')(u1)     \n",
    "        u2 = InstanceNormalization(axis=axis)(u2)\n",
    "        u2 = ReLU()(u2)\n",
    "        u2 = Conv3D(filters, (3, 3, 3), use_bias=False,  padding='same')(u2)\n",
    "        u2 = InstanceNormalization(axis=axis)(u2)\n",
    "       \n",
    "        if se_res_block == True:\n",
    "            se = GlobalAveragePooling3D()(u2)\n",
    "            se = Reshape((1, 1, 1, filters))(se)\n",
    "            se = Dense(filters // se_ratio, activation='relu', use_bias=False)(se)\n",
    "            se = Dense(filters, activation='sigmoid', use_bias=False)(se)\n",
    "            se = Reshape([1, 1, 1, filters])(se)\n",
    "            se = Multiply()([u2, se])\n",
    "            u2 = add([u2, se])\n",
    "        u2 = ReLU()(u2)\n",
    "        \n",
    "       \n",
    "        return u2\n",
    "\n",
    "\n",
    "    \n",
    "    input_img = Input(shape=input_shape)\n",
    "    d0 = GaussianNoise(noise)(input_img)\n",
    "\n",
    "    d0 = conv3d(d0, base_filter, se_res_block=se_res_block, se_ratio=se_ratio, down_sizing=False) #original size\n",
    "    d1 = conv3d(d0, base_filter*2, se_res_block=se_res_block, se_ratio=se_ratio) # /2 \n",
    "    d2 = conv3d(d1, base_filter*4, se_res_block=se_res_block, se_ratio=se_ratio) # /4\n",
    "    d3 = conv3d(d2, base_filter*8, se_res_block=se_res_block, se_ratio=se_ratio) # /8 \n",
    "\n",
    "    u2 = deconv3d(d3, d2, base_filter*4, se_res_block=se_res_block, se_ratio=se_ratio)\n",
    "    u1 = deconv3d(u2, d1, base_filter*2, se_res_block=se_res_block, se_ratio=se_ratio)\n",
    "    u0 = deconv3d(u1, d0, base_filter, se_res_block=se_res_block, se_ratio=se_ratio)\n",
    "    \n",
    "    \n",
    "    output_img = Conv3D(num_labels, kernel_size=1, strides=1, \n",
    "                        padding='same', activation='softmax')(u0)\n",
    "    \n",
    "    \n",
    "\n",
    "    model = Model(inputs=input_img, outputs=output_img)   \n",
    "\n",
    "    return model"
   ]
  },
  {
   "cell_type": "code",
   "execution_count": 12,
   "metadata": {},
   "outputs": [
    {
     "name": "stdout",
     "output_type": "stream",
     "text": [
      "WARNING:tensorflow:From C:\\Users\\yeonuk\\Anaconda3\\lib\\site-packages\\tensorflow\\python\\ops\\control_flow_ops.py:423: colocate_with (from tensorflow.python.framework.ops) is deprecated and will be removed in a future version.\n",
      "Instructions for updating:\n",
      "Colocations handled automatically by placer.\n"
     ]
    }
   ],
   "source": [
    "model = unet_model(input_shape=config[\"input_shape\"],\n",
    "                   num_labels=config[\"num_multilabel\"],\n",
    "                   base_filter=16,\n",
    "                   se_res_block=True,\n",
    "                   se_ratio=16,  \n",
    "                   atten_gate=True\n",
    "                   )\n",
    "\n",
    "\n",
    "model.compile(optimizer=Adam(lr=0.0005),loss=dice_loss, metrics=[dice_score])\n"
   ]
  },
  {
   "cell_type": "markdown",
   "metadata": {},
   "source": [
    "###  training function"
   ]
  },
  {
   "cell_type": "code",
   "execution_count": 7,
   "metadata": {},
   "outputs": [],
   "source": [
    "# 5D tensor (batch,img_dep,img_cols,img_rows,img_channel)\n",
    "def load_batch(x_list,y_list=0, batch_size=1):\n",
    "    \n",
    "    image = sitk.GetArrayFromImage(sitk.ReadImage(x_list)).astype('float32')\n",
    "    if config[\"resizing\"] == True : \n",
    "        image = resize(image)\n",
    "        img_shape = image.shape\n",
    "    else:\n",
    "        img_shape = image.shape\n",
    "\n",
    "    image = np.reshape(image,(config[\"batch_size\"] ,img_shape[0], img_shape[1], img_shape[2] , config[\"img_channel\"])) # batch, z ,y, x , ch\n",
    "    \n",
    "  \n",
    "    label=0\n",
    "    if y_list!=0:\n",
    "        labels = sitk.GetArrayFromImage(sitk.ReadImage(y_list)).astype('float32')\n",
    "        if config[\"resizing\"] == True : \n",
    "            labels = resize(labels)\n",
    "            lb_shape = labels.shape\n",
    "        else:\n",
    "            lb_shape = labels.shape\n",
    "            \n",
    "        '''\n",
    "        I marked ROI label like this 1 = right eye, 2 = left eye, 3 = nose, 4 = right ear, 5 = left ear in label data set.\n",
    "        However U-net \n",
    "        \n",
    "        '''\n",
    "        labels[labels==2] = 1 # eyes\n",
    "        labels[labels==3] = 2 # nose\n",
    "        labels[labels==4] = 3 # ears\n",
    "        labels[labels==5] = 3 # ears\n",
    "        \n",
    "        onehot = to_categorical(labels)     \n",
    "        label = np.reshape(onehot,(config[\"batch_size\"] ,lb_shape[0], lb_shape[1], lb_shape[2], config[\"num_multilabel\"] ))\n",
    "\n",
    "    \n",
    "     \n",
    "    return image,label\n",
    "       \n"
   ]
  },
  {
   "cell_type": "code",
   "execution_count": 14,
   "metadata": {},
   "outputs": [],
   "source": [
    "def train(x_train,y_train):\n",
    "    \n",
    "    train_dice = []\n",
    "    count=0\n",
    "    for i in range(len(x_train)):\n",
    "        image0, label0 = load_batch(x_train[i],y_train[i],config[\"batch_size\"])\n",
    "        train_loss_tmp = model.train_on_batch(image0, label0) #original image training\n",
    "        train_dice.append(train_loss_tmp[1])\n",
    "        count+=1\n",
    "        \n",
    "        print( '\\r'+'\\033[91m'+ \"complete {} / {} average Metrics : {} , Metrics : {}\" \n",
    "                  .format(count, len(x_train)+len(x_train)*config['aug_index'], np.mean(np.array(train_dice)) ,train_loss_tmp[1] ) , end=\"\")\n",
    "        \n",
    "       \n",
    "        for index in range(config['aug_index']):     #train augmentation images as the number of config['aug_index']\n",
    "            image, label = data_aug(image0, label0)\n",
    "            train_loss_tmp = model.train_on_batch(image, label) \n",
    "            \n",
    "            train_dice.append(train_loss_tmp[1])\n",
    "            count+=1\n",
    "            \n",
    "            print(\"\\rcomplete {} / {} average Metrics : {} , Metrics : {}\" \n",
    "                  .format(count, len(x_train)+len(x_train)*config['aug_index'], np.mean(np.array(train_dice)) ,train_loss_tmp[1] ) , end=\"\")\n",
    "        \n",
    "    train_dice = np.mean(np.array(train_dice))\n",
    "    return train_dice\n",
    "\n",
    "def valid(x_valid,y_valid):\n",
    "    \n",
    "    valid_dice = []\n",
    "    for i in range(len(x_valid)):\n",
    "        image, label = load_batch(x_valid[i],y_valid[i],config[\"batch_size\"]) \n",
    "        valid_loss_tmp = model.evaluate(image,label,verbose=0)\n",
    "        valid_dice.append(valid_loss_tmp[1])\n",
    "    valid_dice = np.mean(np.array(valid_dice))\n",
    "    return valid_dice   "
   ]
  },
  {
   "cell_type": "markdown",
   "metadata": {},
   "source": [
    "### check configuration"
   ]
  },
  {
   "cell_type": "code",
   "execution_count": 15,
   "metadata": {},
   "outputs": [
    {
     "data": {
      "text/plain": [
       "{'path_train': 'D:/brainData/defaceTrain',\n",
       " 'vaild_portion': 0.1,\n",
       " 'aug_index': 3,\n",
       " 'img_channel': 1,\n",
       " 'num_multilabel': 4,\n",
       " 'noise': 0.1,\n",
       " 'batch_size': 1,\n",
       " 'resizing': True,\n",
       " 'input_shape': [128, 128, 128, 1],\n",
       " 'epochs': 15}"
      ]
     },
     "execution_count": 15,
     "metadata": {},
     "output_type": "execute_result"
    }
   ],
   "source": [
    "config"
   ]
  },
  {
   "cell_type": "markdown",
   "metadata": {},
   "source": [
    "# Train - model save"
   ]
  },
  {
   "cell_type": "code",
   "execution_count": 15,
   "metadata": {
    "scrolled": true
   },
   "outputs": [
    {
     "name": "stdout",
     "output_type": "stream",
     "text": [
      "WARNING:tensorflow:From C:\\Users\\yeonuk\\Anaconda3\\lib\\site-packages\\tensorflow\\python\\ops\\math_ops.py:3066: to_int32 (from tensorflow.python.ops.math_ops) is deprecated and will be removed in a future version.\n",
      "Instructions for updating:\n",
      "Use tf.cast instead.\n",
      "WARNING:tensorflow:From C:\\Users\\yeonuk\\Anaconda3\\lib\\site-packages\\tensorflow\\python\\ops\\math_grad.py:102: div (from tensorflow.python.ops.math_ops) is deprecated and will be removed in a future version.\n",
      "Instructions for updating:\n",
      "Deprecated in favor of operator or tf.math.divide.\n",
      "complete 988 / 988 average Metrics : 0.5282239317893982 , Metrics : 0.5661985874176025\n",
      "Epochs 0 train: 0.528 valid: 0.606 [saved] \t 2019-09-17 09:09:08.390213\n",
      "\n",
      "\n",
      "complete 988 / 988 average Metrics : 0.7402085661888123 , Metrics : 0.7330509424209595\n",
      "Epochs 1 train: 0.740 valid: 0.787 [saved] \t 2019-09-17 09:26:43.656158\n",
      "\n",
      "\n",
      "complete 988 / 988 average Metrics : 0.7712368369102478 , Metrics : 0.7805833220481873\n",
      "Epochs 2 train: 0.771 valid: 0.806 [saved] \t 2019-09-17 09:44:19.633055\n",
      "\n",
      "\n",
      "complete 988 / 988 average Metrics : 0.7796408534049988 , Metrics : 0.7891173958778381\n",
      "Epochs 3 train: 0.780 valid: 0.807 [saved] \t 2019-09-17 10:01:52.241893\n",
      "\n",
      "\n",
      "complete 988 / 988 average Metrics : 0.7838291525840759 , Metrics : 0.8402209877967834\n",
      "Epochs 4 train: 0.784 valid: 0.815 [saved] \t 2019-09-17 10:19:25.762199\n",
      "\n",
      "\n",
      "complete 988 / 988 average Metrics : 0.7909135818481445 , Metrics : 0.797861635684967\n",
      "Epochs 5 train: 0.791 valid: 0.810 \t 2019-09-17 10:37:02.873336\n",
      "\n",
      "\n",
      "complete 988 / 988 average Metrics : 0.7975853085517883 , Metrics : 0.8389796614646912\n",
      "Epochs 6 train: 0.798 valid: 0.805 \t 2019-09-17 10:54:46.239277\n",
      "\n",
      "\n",
      "complete 988 / 988 average Metrics : 0.8069560527801514 , Metrics : 0.8719273209571838\n",
      "Epochs 7 train: 0.807 valid: 0.813 \t 2019-09-17 11:12:19.425133\n",
      "\n",
      "\n",
      "complete 988 / 988 average Metrics : 0.8177109360694885 , Metrics : 0.7887106537818909\n",
      "Epochs 8 train: 0.818 valid: 0.804 \t 2019-09-17 11:29:52.368112\n",
      "\n",
      "\n",
      "complete 988 / 988 average Metrics : 0.831092894077301 , Metrics : 0.8546397686004639\n",
      "Epochs 9 train: 0.831 valid: 0.809 \t 2019-09-17 11:47:25.034831\n",
      "\n",
      "\n"
     ]
    }
   ],
   "source": [
    "score_check = [0.]\n",
    "for num_epoch in range(config[\"epochs\"]):\n",
    "        \n",
    "    # shuffling training set \n",
    "    combined = list(zip(x_train, y_train))\n",
    "    random.shuffle(combined)\n",
    "    x_train[:], y_train[:] = zip(*combined)\n",
    "\n",
    "    \n",
    "    # training\n",
    "    train_dice = train(x_train,y_train)\n",
    "\n",
    "    # validation\n",
    "    valid_dice = valid(x_valid,y_valid)\n",
    "    \n",
    "    \n",
    "    # model save when validation dice coef. improved\n",
    "    if np.max(score_check) < valid_dice: \n",
    "        model.save('Model_att.h5')\n",
    "        print('\\nEpochs',num_epoch,'train:',f'{train_dice:.3f}','valid:',f'{valid_dice:.3f}','[saved]', \"\\t\", dt.datetime.now())\n",
    "    else:\n",
    "        print('\\nEpochs',num_epoch,'train:',f'{train_dice:.3f}','valid:',f'{valid_dice:.3f}', \"\\t\", dt.datetime.now())\n",
    "    \n",
    "    score_check.append(valid_dice)\n",
    "    print('\\n')\n",
    "    \n",
    "    #early stop option: if there is no improvement during the last 5 epochs, the learning stops.\n",
    "    if np.max(score_check[-5:]) < np.max(score_check): \n",
    "        break\n",
    "\n",
    "model.save('Model_last_epoch.h5') # save model at last epoch"
   ]
  },
  {
   "cell_type": "markdown",
   "metadata": {},
   "source": [
    "# Model test -test set(labeled data) evaluation\n",
    "\n"
   ]
  },
  {
   "cell_type": "code",
   "execution_count": null,
   "metadata": {},
   "outputs": [],
   "source": [
    "model.load_weights('Model_att.h5') # load only weight "
   ]
  },
  {
   "cell_type": "code",
   "execution_count": 8,
   "metadata": {},
   "outputs": [
    {
     "name": "stdout",
     "output_type": "stream",
     "text": [
      "WARNING:tensorflow:From C:\\Users\\yeonuk\\Anaconda3\\lib\\site-packages\\tensorflow\\python\\ops\\control_flow_ops.py:423: colocate_with (from tensorflow.python.framework.ops) is deprecated and will be removed in a future version.\n",
      "Instructions for updating:\n",
      "Colocations handled automatically by placer.\n",
      "WARNING:tensorflow:From C:\\Users\\yeonuk\\Anaconda3\\lib\\site-packages\\tensorflow\\python\\ops\\math_ops.py:3066: to_int32 (from tensorflow.python.ops.math_ops) is deprecated and will be removed in a future version.\n",
      "Instructions for updating:\n",
      "Use tf.cast instead.\n",
      "WARNING:tensorflow:From C:\\Users\\yeonuk\\Anaconda3\\lib\\site-packages\\tensorflow\\python\\ops\\math_grad.py:102: div (from tensorflow.python.ops.math_ops) is deprecated and will be removed in a future version.\n",
      "Instructions for updating:\n",
      "Deprecated in favor of operator or tf.math.divide.\n"
     ]
    }
   ],
   "source": [
    "# import model structure and weight\n",
    "from keras.models import load_model\n",
    "model = load_model('Model_att.h5',custom_objects={'InstanceNormalization':InstanceNormalization,'dice_loss':dice_loss,'dice_score':dice_score})"
   ]
  },
  {
   "cell_type": "code",
   "execution_count": 9,
   "metadata": {},
   "outputs": [
    {
     "name": "stdout",
     "output_type": "stream",
     "text": [
      "Total of 28 NIFTI images.\n"
     ]
    }
   ],
   "source": [
    "path_test = 'D:/brainData/defaceTest' #'test set folder path. including image, label folder\n",
    "list_test_image = glob.glob(os.path.join(path_test,'image/*.nii.gz'))\n",
    "list_test_label = glob.glob(os.path.join(path_test,'label/*.nii.gz'))\n",
    "print (\"Total of %d NIFTI images.\" % len(list_test_image))"
   ]
  },
  {
   "cell_type": "code",
   "execution_count": 17,
   "metadata": {},
   "outputs": [
    {
     "data": {
      "text/plain": [
       "0.8045505178826196"
      ]
     },
     "execution_count": 17,
     "metadata": {},
     "output_type": "execute_result"
    }
   ],
   "source": [
    "testset_dice=valid(list_test_image,list_test_label) #mean dice score of test set.\n",
    "testset_dice"
   ]
  },
  {
   "cell_type": "code",
   "execution_count": 10,
   "metadata": {},
   "outputs": [],
   "source": [
    "# onehot results -> argmax\n",
    "def onehot2label (onehot_array) :\n",
    "    onehot_array = np.argmax(onehot_array,axis=-1)\n",
    "    label=onehot_array[...,np.newaxis]\n",
    "\n",
    "    return label"
   ]
  },
  {
   "cell_type": "code",
   "execution_count": 19,
   "metadata": {},
   "outputs": [],
   "source": [
    "def view_result (test_num, first_axial_slice=45 , second_axial_slice =60):\n",
    "    i = test_num\n",
    "    \n",
    "    image, label = load_batch(list_test_image[i],list_test_label[i],batch_size = 1)\n",
    "    # y axis flip test\n",
    "    #image = image[:,:,::-1,:,:]\n",
    "    #label = label[:,:,::-1,:,:]\n",
    "    \n",
    "    #image = np.transpose(image,(0,3,2,1,4)) \n",
    "    results = model.predict(image)\n",
    "    \n",
    "    \n",
    "    groundtruth = onehot2label(label)\n",
    "    pred = onehot2label(results)\n",
    "    \n",
    "    cmap = colors.ListedColormap(['None', 'red', 'purple', 'blue', 'yellow', 'green']) #rigt eye 1, left eye 2, nose 3, right ear 4, left ear5\n",
    "    bounds=[0,1,2,3,4,5,6]\n",
    "    norm = colors.BoundaryNorm(bounds, cmap.N)\n",
    "\n",
    "    num_slice = first_axial_slice\n",
    "    plt.figure(figsize=(15,10))\n",
    "    plt.subplot(2,2,1)\n",
    "    plt.title('GroundTruth axial = {}'.format(num_slice))\n",
    "    \n",
    "    plt.imshow(image[0,:,num_slice,:,0],cmap='gray')\n",
    "    \n",
    "    plt.imshow(groundtruth[0,:,num_slice,:,0],alpha=0.5,cmap=cmap, norm=norm)\n",
    "    plt.subplot(2,2,2)\n",
    "    plt.title('Prediction {}'.format(num_slice))\n",
    "   \n",
    "    plt.imshow(image[0,:,num_slice,:,0],cmap='gray')\n",
    "    plt.imshow(pred[0,:,num_slice,:,0],alpha=0.5,cmap=cmap, norm=norm)\n",
    "    \n",
    "    print(\"axial = {}\".format(num_slice),\"\\nprediction = \",set(list(pred[0,:,num_slice,:,0].flatten())))\n",
    "    print(\"ground truth = \", set(list(groundtruth[0,:,num_slice,:,0].flatten())))\n",
    "    print(\"\\n\")\n",
    "\n",
    "    num_slice = second_axial_slice\n",
    "    plt.figure(figsize=(15,10))\n",
    "    plt.subplot(2,2,3)\n",
    "    plt.title('GroundTruth {}' .format(num_slice))\n",
    "   \n",
    "    plt.imshow(image[0,:,num_slice,:,0],cmap='gray')\n",
    "    \n",
    "    plt.imshow(groundtruth[0,:,num_slice,:,0],alpha=0.5,cmap=cmap, norm=norm)\n",
    "    plt.subplot(2,2,4)\n",
    "    plt.title('Prediction {}'.format(num_slice))\n",
    "    \n",
    "    plt.imshow(image[0,:,num_slice,:,0],cmap='gray')\n",
    "\n",
    "    \n",
    "    plt.imshow(pred[0,:,num_slice,:,0],alpha=0.5,cmap=cmap, norm=norm) # alpha : opacity\n",
    "    print(\"axial = {}\".format(num_slice),\"\\nprediction = \",set(list(pred[0,:,num_slice,:,0].flatten())))\n",
    "    print(\"ground truth = \", set(list(groundtruth[0,:,num_slice,:,0].flatten())))\n",
    "    print(\"\\n\")\n"
   ]
  },
  {
   "cell_type": "code",
   "execution_count": 22,
   "metadata": {
    "scrolled": true
   },
   "outputs": [
    {
     "name": "stdout",
     "output_type": "stream",
     "text": [
      "axial = 45 \n",
      "prediction =  {0, 2, 3}\n",
      "ground truth =  {0, 2, 3}\n",
      "\n",
      "\n",
      "axial = 60 \n",
      "prediction =  {0, 1}\n",
      "ground truth =  {0, 1}\n",
      "\n",
      "\n"
     ]
    },
    {
     "data": {
      "image/png": "[encoded data removed]",
      "text/plain": [
       "<Figure size 1080x720 with 2 Axes>"
      ]
     },
     "metadata": {
      "needs_background": "light"
     },
     "output_type": "display_data"
    },
    {
     "data": {
      "image/png": "[encoded data removed]",
      "text/plain": [
       "<Figure size 1080x720 with 2 Axes>"
      ]
     },
     "metadata": {
      "needs_background": "light"
     },
     "output_type": "display_data"
    }
   ],
   "source": [
    "view_result(0,45,60)  # first test file view"
   ]
  },
  {
   "cell_type": "code",
   "execution_count": 23,
   "metadata": {},
   "outputs": [
    {
     "name": "stdout",
     "output_type": "stream",
     "text": [
      "axial = 45 \n",
      "prediction =  {0, 3}\n",
      "ground truth =  {0, 3}\n",
      "\n",
      "\n",
      "axial = 60 \n",
      "prediction =  {0, 1, 2}\n",
      "ground truth =  {0, 1, 2}\n",
      "\n",
      "\n"
     ]
    },
    {
     "data": {
      "image/png": "[encoded data removed]",
      "text/plain": [
       "<Figure size 1080x720 with 2 Axes>"
      ]
     },
     "metadata": {
      "needs_background": "light"
     },
     "output_type": "display_data"
    },
    {
     "data": {
      "image/png": "[encoded data removed]",
      "text/plain": [
       "<Figure size 1080x720 with 2 Axes>"
      ]
     },
     "metadata": {
      "needs_background": "light"
     },
     "output_type": "display_data"
    }
   ],
   "source": [
    "view_result(1) # second test file view"
   ]
  },
  {
   "cell_type": "markdown",
   "metadata": {},
   "source": [
    "# save image file"
   ]
  },
  {
   "cell_type": "code",
   "execution_count": 11,
   "metadata": {},
   "outputs": [],
   "source": [
    "config[\"test_label_save_path\"] =  'D:/brainData/testblur'"
   ]
  },
  {
   "cell_type": "code",
   "execution_count": 12,
   "metadata": {},
   "outputs": [],
   "source": [
    "#creating bound box of segmentation result. Ignoring execpt facial features(eyes, nose and ears) by using labeling, region prop \n",
    "#input: predicted label by model. ndarray(z,y,x,ch),\n",
    "#output : bounding box coordinates list([z,y,x,Z, Y, X],[z,y,x,Z, Y, X],... as number of label clusters)\n",
    "def bounding_box(results):\n",
    "\n",
    "    boxes = list()\n",
    "    for ch in range(config[\"num_multilabel\"]-1):  # except 0 label (blanck)\n",
    "        if ch!=1 : # eyes, ears\n",
    "            \n",
    "            result = np.round(results[...,ch])\n",
    "            lb=label(result,connectivity=1)\n",
    "            \n",
    "            region_list=list()\n",
    "            for region in regionprops(lb):\n",
    "                region_list.append(region.area)\n",
    "                \n",
    "            region_list_sort = sorted(region_list)\n",
    "            max_region = np.where(region_list>=region_list_sort[-2]) # first maximum, second maximum region\n",
    "            boxes.append(list(regionprops(lb)[max_region[0][0]].bbox))\n",
    "            boxes.append(list(regionprops(lb)[max_region[0][1]].bbox))\n",
    "        \n",
    "        \n",
    "        \n",
    "        if ch==1 : # nose\n",
    "           \n",
    "            result = np.round(results[...,ch])\n",
    "            lb=label(result,connectivity=1)\n",
    "\n",
    "            region_list=list()\n",
    "            for region in regionprops(lb):\n",
    "                region_list.append(region.area)\n",
    "\n",
    "            max_region=np.argmax(region_list)\n",
    "            boxes.append(list(regionprops(lb)[max_region].bbox))\n",
    "            \n",
    "            \n",
    "    return boxes"
   ]
  },
  {
   "cell_type": "code",
   "execution_count": 38,
   "metadata": {},
   "outputs": [],
   "source": [
    "#input: 'xyz order' 3D array by nib.load, bound box coordinates, coordimnates of bounding box, processing type = blur or wipe(remove voxel)\n",
    "#output: processed image array.\n",
    "def box_blur(im_array,  box, Type, wth=1):\n",
    "    \n",
    "    # increase or decrease the size of the box by 'wth' times\n",
    "    if wth != 1 :\n",
    "        for c in range(3):\n",
    "            mean_= (box[c]+box[c+3])/2\n",
    "            box[c]=int(np.round(mean_-wth*(mean_-box[c])))\n",
    "            box[c+3]=int(np.round(wth*(box[c+3]-mean_)+mean_))\n",
    "            if box[c] < 0: box[c]=0\n",
    "            if box[c+3] > im_array.shape[2-c]: box[c+3] = im_array.shape[2-c]   #order : im_array-> x,y,z / box-> z,y,x\n",
    "\n",
    " \n",
    "    \n",
    "    #voxel coordinates must be 'int'\n",
    "    box_z1 = box[0]\n",
    "    box_y1 = box[1]\n",
    "    box_x1 = box[2]\n",
    "    box_z2 = box[3]\n",
    "    box_y2 = box[4]\n",
    "    box_x2 = box[5]\n",
    "    \n",
    "    \n",
    "    if Type.lower() =='blur':\n",
    "        blurr_array = ndimage.median_filter(im_array[box_x1:box_x2,box_y1:box_y2,box_z1:box_z2],size=5) #size = filter size\n",
    "        im_array[box_x1:box_x2,box_y1:box_y2,box_z1:box_z2] = blurr_array\n",
    "    elif Type.lower() =='wipe':\n",
    "        blurr_array=0\n",
    "        im_array[box_x1:box_x2,box_y1:box_y2,box_z1:box_z2] = blurr_array\n",
    "    else:\n",
    "        raise print(\"type option error : select 'Blur' or 'Wipe'\")\n",
    "    \n",
    "    return im_array\n"
   ]
  },
  {
   "cell_type": "code",
   "execution_count": 39,
   "metadata": {},
   "outputs": [],
   "source": [
    "#input: 'xyz order' 3D array by nib.load, bound box coordinates, coordimnates of bounding box, processing type = blur or wipe(remove voxel)\n",
    "# wth : You can increase or decrease the size of the box by 'wth' times.\n",
    "# dep : Thickness to blur along surface.\n",
    "#output: processed image array.\n",
    "def surface_blur(im_array, edge_img, box, Type, wth ,dep):\n",
    "    \n",
    "    \n",
    "    # increase or decrease the size of the box by 'wth' times\n",
    "    if wth != 1 :\n",
    "        for c in range(3):\n",
    "            mean_= (box[c]+box[c+3])/2\n",
    "            box[c]=int(np.round(mean_-wth*(mean_-box[c])))\n",
    "            box[c+3]=int(np.round(wth*(box[c+3]-mean_)+mean_))\n",
    "            if box[c] < 0: box[c]=0\n",
    "            if box[c+3] > im_array.shape[2-c]: box[c+3] = im_array.shape[2-c]   #order : im_array-> x,y,z / box-> z,y,x\n",
    "\n",
    "    \n",
    "    \n",
    "    #voxel coordinates must be 'int'\n",
    "    box_z1 = box[0]\n",
    "    box_y1 = box[1]\n",
    "    box_x1 = box[2]\n",
    "    box_z2 = box[3]\n",
    "    box_y2 = box[4]\n",
    "    box_x2 = box[5]\n",
    "    \n",
    "    mini_array = im_array[box_x1:box_x2,box_y1:box_y2,box_z1:box_z2]\n",
    "            \n",
    "    mini_edge = edge_img[box_x1:box_x2,box_y1:box_y2,box_z1:box_z2]\n",
    "\n",
    "    \n",
    "    # dep  =eyes=2~3 ears 1~2\n",
    "    if Type.lower() =='blur':\n",
    "        where_true=np.where(mini_edge==True)\n",
    "        \n",
    "        for i in range(len(where_true[0])):\n",
    "            x=where_true[0][i]\n",
    "            y=where_true[1][i]\n",
    "            z=where_true[2][i]\n",
    "            mini_array[x-dep:x+dep,y-dep:y+dep,z-dep:z+dep]=ndimage.gaussian_filter(mini_array[x-dep:x+dep,y-dep:y+dep,z-dep:z+dep],sigma=7)\n",
    "        \n",
    "        \n",
    "    elif Type.lower() =='wipe':\n",
    "        where_true=np.where(mini_edge==True)\n",
    "\n",
    "        for i in range(len(where_true[0])):\n",
    "            x=where_true[0][i]\n",
    "            y=where_true[1][i]\n",
    "            z=where_true[2][i]\n",
    "            mini_array[x-dep:x+dep,y-dep:y+dep,z-dep:z+dep]=0\n",
    "\n",
    "    \n",
    "    else:\n",
    "        raise print(\"type option error : select 'Blur' or 'Wipe'\")\n",
    "    \n",
    "    \n",
    "    im_array[box_x1:box_x2,box_y1:box_y2,box_z1:box_z2] = mini_array \n",
    "    \n",
    "    return im_array"
   ]
  },
  {
   "cell_type": "code",
   "execution_count": 40,
   "metadata": {},
   "outputs": [],
   "source": [
    "def outer_contour_3D(image,zoom=1):\n",
    "    #sort in standard size\n",
    "    resize_factor = (128/image.shape[0], 128/image.shape[1], 128/image.shape[2])\n",
    "    ima = ndimage.zoom(image,resize_factor,order=0, mode='constant', cval=0.0)\n",
    "    \n",
    "    # make binary cast\n",
    "    thresh = threshold_triangle(ima)\n",
    "    imageg=ndimage.median_filter(ima,size=3)\n",
    "    binary_image = imageg > thresh\n",
    "    for s in range(ima.shape[0]) :\n",
    "        binary_image[s,:,:]=ndimage.morphology.binary_fill_holes(binary_image[s,:,:])\n",
    "    for s in range(ima.shape[1]) :\n",
    "        binary_image[:,s,:]=ndimage.morphology.binary_fill_holes(binary_image[:,s,:])\n",
    "    for s in range(ima.shape[2]) :\n",
    "        binary_image[:,:,s]=ndimage.morphology.binary_fill_holes(binary_image[:,:,s])\n",
    "    \n",
    "    # draw outer contour\n",
    "    verts, faces, norm, val = marching_cubes_lewiner(binary_image,0)\n",
    "    vint = np.round(verts).astype('int')\n",
    "    contour = np.zeros_like(binary_image)\n",
    "    for s in vint:\n",
    "        contour[s[0],s[1],s[2]]=1\n",
    "    \n",
    "    # shrink contour image cuz of the gaussian_filter we used earlier.\n",
    "    if zoom !=1 :\n",
    "        c_shape = contour.shape\n",
    "        zoom_ = ndimage.zoom(contour,zoom,order=0, mode='constant', cval=0.0)\n",
    "        zoom_shape = zoom_.shape\n",
    "        npad = ( (int(np.ceil((c_shape[0]-zoom_shape[0])/2)),int((c_shape[0]-zoom_shape[0])/2)), \n",
    "                (int(np.ceil((c_shape[1]-zoom_shape[1])/2)),int((c_shape[1]-zoom_shape[1])/2)),\n",
    "                (int(np.ceil((c_shape[2]-zoom_shape[2])/2)),int((c_shape[2]-zoom_shape[2])/2)) )\n",
    "\n",
    "        contour_3D = np.pad(zoom_,npad,'constant',constant_values = (0))\n",
    "    elif zoom==1 : \n",
    "        contour_3D = contour\n",
    "    \n",
    "    #Revert to original size\n",
    "    get_back = (image.shape[0]/128, image.shape[1]/128, image.shape[2]/128)\n",
    "    contour_3D = ndimage.zoom(contour_3D,get_back,order=0, mode='constant', cval=0.0)\n",
    "    \n",
    "    return contour_3D"
   ]
  },
  {
   "cell_type": "code",
   "execution_count": 41,
   "metadata": {},
   "outputs": [],
   "source": [
    "#where_do_you_want_to_blur? ex) where = (1,1,1) -> blur(eyes, nose, ears)\n",
    "def Deidentification_image(where, Type, list_test_image, model=model):\n",
    "    '''\n",
    "    where : list or tuple. Each position stands for eyes nose ears (eyes, nose, ears) \n",
    "            If the corresponding position is 1, de-identification process.\n",
    "    \n",
    "    Type : Image processing options. 'Wipe' , 'Blurr'\n",
    "    \n",
    "    list_of_image : Test set(labled or unlabled) data path. \n",
    "    model : Predictive model to be applied.\n",
    "\n",
    "    '''\n",
    "    # if typing another word, error raise. \n",
    "    options=['blur','wipe']\n",
    "    if Type.lower() not in options: \n",
    "        raise print(\"type option error : select 'Blur' or 'Wipe'\") \n",
    "    \n",
    "    \n",
    "    \n",
    "    for i in range(len(list_test_image)): # load image of i th : 0 ~\n",
    "        \n",
    "        raw_img = nib.load(list_test_image[i]) # get affine and header of original image file.\n",
    "        array_img = raw_img.get_fdata() # image array\n",
    "        original_shape = array_img.shape #  (x,y,z)\n",
    "        \n",
    "        #load prediction label \n",
    "        image, label = load_batch(list_test_image[i]) #z, y, x \n",
    "        results = model.predict(image)\n",
    "        \n",
    "        #preprocessing: Size recovery and transform onehot to labels number \n",
    "        if config[\"resizing\"]==True :\n",
    "            results = onehot2label(results)\n",
    "            results = np.reshape(results,config[\"input_shape\"][0:3]) # prediction results (batch size, dep, col ,row, ch) -> (dep, col ,row)\n",
    "            results = resize(results,\n",
    "                                 img_dep=original_shape[2],\n",
    "                                 img_cols=original_shape[1],\n",
    "                                 img_rows=original_shape[0]) \n",
    "            results = to_categorical(results)[...,1:] # except 0 label (blanck)\n",
    "\n",
    "        else:\n",
    "            results=results[0,...,1:] # Only if batch size==1\n",
    "\n",
    "        \n",
    "        #search center by clustering\n",
    "        boxes = bounding_box(results)      \n",
    "        if len(boxes)!=5 :\n",
    "            raise print('test number:',i,'boxes:' ,len(boxes), '\\nROI detection failed ')     \n",
    "                \n",
    "        \n",
    "        ## make outer contour for mini array.\n",
    "        edge_img = outer_contour_3D(array_img,zoom=1)\n",
    "        \n",
    "        \n",
    "        # \n",
    "        if where[0] == 1: # eyes\n",
    "                                   \n",
    "            box = boxes[0] # eye\n",
    "            array_img = surface_blur(array_img, edge_img, box, Type, wth=1.2, dep=3)\n",
    "            \n",
    "            box = boxes[1] # eye\n",
    "            array_img = surface_blur(array_img, edge_img, box, Type, wth=1.2, dep=3)               \n",
    "        \n",
    "        if where[1] == 1: # nose\n",
    "            box = boxes[2]\n",
    "            array_img = box_blur(array_img, box, Type='wipe', wth=1.33)\n",
    "            \n",
    "        if where[2] == 1: # ears\n",
    "            \n",
    "            box = boxes[3] # ear\n",
    "            array_img = surface_blur(array_img, edge_img, box, Type, wth=1.5, dep=2)\n",
    "    \n",
    "            \n",
    "            box = boxes[4] # ear\n",
    "            array_img = surface_blur(array_img, edge_img, box, Type, wth=1.5, dep=2)\n",
    "        \n",
    "        \n",
    "        array_img=np.round(array_img)\n",
    "        array_img=np.array(array_img,dtype=int)\n",
    "        \n",
    "        \n",
    "        if Type.lower() =='blur':\n",
    "            nib.save(nib.Nifti1Image(array_img , raw_img.affine, raw_img.header),\n",
    "                     os.path.join(config[\"test_label_save_path\"],'Blurred_{}'.format(os.path.basename(list_test_image[i]))))    \n",
    "        elif Type.lower() =='wipe':\n",
    "            nib.save(nib.Nifti1Image(array_img , raw_img.affine, raw_img.header),\n",
    "                     os.path.join(config[\"test_label_save_path\"],'Wipe_{}'.format(os.path.basename(list_test_image[i]))))   \n",
    "    \n"
   ]
  },
  {
   "cell_type": "code",
   "execution_count": 29,
   "metadata": {},
   "outputs": [],
   "source": [
    "# Creat Nifty file(.nii.gz) of just prediction label \n",
    "\n",
    "def save_label_pred(list_test_image, model=model, option=False):\n",
    "    \n",
    "    for i in range(len(list_test_image)): \n",
    "        raw_img = nib.load(list_test_image[i])\n",
    "        original_shape = raw_img.get_fdata().shape #  (x,y,z)\n",
    "        \n",
    "        image, labels = load_batch(list_test_image[i])\n",
    "        results = model.predict(image)\n",
    "        \n",
    "        if option == True : # noise removing process\n",
    "            for ch in range(1,config[\"num_multilabel\"]): # except 0 label (blanck)\n",
    "                if ch!=2 : # eyes, ears\n",
    "\n",
    "                    result = np.round(results[0,...,ch]) # only batch size = 1\n",
    "                    lb=label(result,connectivity=1)\n",
    "\n",
    "                    region_list=list()\n",
    "                    for region in regionprops(lb):\n",
    "                        region_list.append(region.area)\n",
    "\n",
    "                    region_list_sort = sorted(region_list)\n",
    "                    \n",
    "                    lb=np.array(lb,dtype=bool)\n",
    "                    lb=remove_small_objects(lb, min_size=region_list_sort[-2])\n",
    "                    results[0,...,ch]=results[0,...,ch]*lb\n",
    "\n",
    "                if ch==2 : # nose\n",
    "\n",
    "                    result = np.round(results[0,...,ch])  # only batch size = 1\n",
    "                    lb=label(result,connectivity=1)\n",
    "\n",
    "                    region_list=list()\n",
    "                    for region in regionprops(lb):\n",
    "                        region_list.append(region.area)\n",
    "\n",
    "                    max_size= np.max(region_list)\n",
    "                    lb=np.array(lb,dtype=bool)\n",
    "                    lb=remove_small_objects(lb, min_size=max_size)\n",
    "                    results[0,...,ch]=results[0,...,ch]*lb\n",
    "            \n",
    "            \n",
    "\n",
    "        results = onehot2label(results)\n",
    "        results = np.reshape(results,config[\"input_shape\"][0:3]) # prediction results (batch size, dep, col ,row, ch) -> (dep, col ,row)\n",
    "        if config[\"resizing\"]==True :\n",
    "            results = resize(results,\n",
    "                             img_dep=original_shape[2],\n",
    "                             img_cols=original_shape[1],\n",
    "                             img_rows=original_shape[0]) # recovery to original size\n",
    "                \n",
    "        results_reshaped = np.transpose(results,(2,1,0))     #nibabel library : x y z order, simpleITK library : z y x order.\n",
    "    \n",
    "\n",
    "        nib.save(nib.Nifti1Image(results_reshaped , raw_img.affine, raw_img.header),\n",
    "                 os.path.join(config[\"test_label_save_path\"], 'deface_label_{}'.format(os.path.basename(list_test_image[i]))))\n",
    "\n",
    "        \n",
    "                    "
   ]
  },
  {
   "cell_type": "code",
   "execution_count": 23,
   "metadata": {},
   "outputs": [
    {
     "name": "stdout",
     "output_type": "stream",
     "text": [
      "38.088838899999985 s\n"
     ]
    }
   ],
   "source": [
    "# Creat Nifty file(.nii.gz) of just prediction label \n",
    "import timeit\n",
    "start = timeit.default_timer()\n",
    "\n",
    "config[\"test_label_save_path\"]='D:/brainData/testblur/option test'\n",
    "save_label_pred(list_test_image, option=True) # option = True: # noise removing process\n",
    "\n",
    "stop = timeit.default_timer()\n",
    "print(stop - start,'s')\n",
    "#1.36 s / image"
   ]
  },
  {
   "cell_type": "code",
   "execution_count": 46,
   "metadata": {},
   "outputs": [
    {
     "name": "stdout",
     "output_type": "stream",
     "text": [
      "70.74757890000001 s\n"
     ]
    }
   ],
   "source": [
    "import timeit\n",
    "start = timeit.default_timer()\n",
    "\n",
    "config[\"test_label_save_path\"]= 'D:/brainData/testblur' # save file path\n",
    "Deidentification_image(where=(1,1,1),Type='wipe',list_test_image=list_test_image) #where_do_you_want_to_blur/wipe? ex) where = (1,1,1) -> blur/wipe(eyes, nose, ears)\n",
    "\n",
    "stop = timeit.default_timer()\n",
    "print(stop - start,'s')\n",
    "# 2.5 s / image "
   ]
  },
  {
   "cell_type": "code",
   "execution_count": null,
   "metadata": {},
   "outputs": [],
   "source": [
    "EOF"
   ]
  },
  {
   "cell_type": "markdown",
   "metadata": {},
   "source": [
    "# EOF"
   ]
  }
 ],
 "metadata": {
  "kernelspec": {
   "display_name": "Python 3",
   "language": "python",
   "name": "python3"
  },
  "language_info": {
   "codemirror_mode": {
    "name": "ipython",
    "version": 3
   },
   "file_extension": ".py",
   "mimetype": "text/x-python",
   "name": "python",
   "nbconvert_exporter": "python",
   "pygments_lexer": "ipython3",
   "version": "3.7.3"
  }
 },
 "nbformat": 4,
 "nbformat_minor": 2
}
