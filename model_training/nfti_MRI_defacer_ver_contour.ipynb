{
 "cells": [
  {
   "cell_type": "markdown",
   "metadata": {},
   "source": [
    "# ROI detection (segmentation) defacer ver 2.0\n",
    "\n",
    "## Asan Medical Center\n",
    "\n",
    "  \n",
    "#### &nbsp;"
   ]
  },
  {
   "cell_type": "code",
   "execution_count": 1,
   "metadata": {},
   "outputs": [
    {
     "name": "stderr",
     "output_type": "stream",
     "text": [
      "Using TensorFlow backend.\n"
     ]
    }
   ],
   "source": [
    "import os\n",
    "import glob\n",
    "import math\n",
    "import time\n",
    "import datetime as dt\n",
    "import numpy as np\n",
    "import nibabel as nib\n",
    "import random\n",
    "from scipy import ndimage\n",
    "from skimage.measure import label, regionprops\n",
    "from skimage.morphology import remove_small_objects\n",
    "import matplotlib.pyplot as plt\n",
    "from matplotlib import colors\n",
    "\n",
    "from keras import backend as K\n",
    "from keras.optimizers import Adam, SGD\n",
    "\n",
    "\n",
    "from keras.models import Model\n",
    "from keras.utils import to_categorical\n",
    "\n",
    "from skimage.filters import threshold_triangle\n",
    "from skimage.morphology import remove_small_holes\n",
    "#from skimage.measure import marching_cubes_lewiner\n",
    "\n",
    "from keras import layers, initializers, regularizers, constraints\n",
    "from keras.layers import Layer, InputSpec\n",
    "from keras.layers import Dense, Activation, Flatten, Input, Convolution3D, MaxPooling3D, UpSampling3D, ZeroPadding3D,  BatchNormalization, concatenate, Conv3D\n",
    "from keras.layers import Lambda, ReLU, Multiply, Reshape, ThresholdedReLU\n",
    "from keras.layers import Input, Conv3D, MaxPooling3D, UpSampling3D, ZeroPadding3D, Cropping3D, Conv3DTranspose, GlobalAveragePooling3D\n",
    "from keras.layers import BatchNormalization, GaussianNoise\n",
    "from keras.layers import concatenate, add, multiply\n",
    "from keras.layers import Activation\n"
   ]
  },
  {
   "cell_type": "markdown",
   "metadata": {},
   "source": [
    "# Load Data"
   ]
  },
  {
   "cell_type": "code",
   "execution_count": 2,
   "metadata": {},
   "outputs": [],
   "source": [
    "config = dict() #configuration info"
   ]
  },
  {
   "cell_type": "code",
   "execution_count": 3,
   "metadata": {
    "slideshow": {
     "slide_type": "-"
    }
   },
   "outputs": [],
   "source": [
    "#configure parameter & hyper parameter\n",
    "config['aug_index']= 3 # generate augmentation images per single training data.\n",
    "config[\"img_channel\"] = 1\n",
    "config[\"num_multilabel\"] = 5 # the number of label (channel last)\n",
    "config[\"noise\"] = 0.1\n",
    "config[\"batch_size\"] = 1 # 3D segmentation learning needs too large GPU memory to increase batch size. # this script is optimized for single batch size \n",
    "config[\"resizing\"] = True #True -> resize input image for learning. if you don't have enough GPU memory.\n",
    "config[\"input_shape\"] = [128, 128, 128, 1] # smaller GPU memory smaller image size\n",
    "\n",
    "    \n",
    "config[\"epochs\"] = 100 "
   ]
  },
  {
   "cell_type": "code",
   "execution_count": 4,
   "metadata": {},
   "outputs": [],
   "source": [
    "config[\"path_image\"] = '/home/jupyter/project/cbvdamcct/image'\n",
    "config[\"path_label\"] = '/home/jupyter/project/cbvdamcct/label'\n",
    "\n",
    "\n",
    "\n",
    "\n",
    "#Load .nii.gz files\n",
    "list_train_image = glob.glob(os.path.join(config[\"path_image\"],'*.nii.gz'))\n",
    "list_train_label = glob.glob(os.path.join(config[\"path_label\"],'*.nii.gz'))"
   ]
  },
  {
   "cell_type": "code",
   "execution_count": 5,
   "metadata": {},
   "outputs": [],
   "source": [
    "from sklearn.model_selection import train_test_split\n",
    "x_train, x_valid_test, y_train, y_valid_test = train_test_split(\n",
    "    list_train_image, \n",
    "    list_train_label,\n",
    "    shuffle = True,\n",
    "    test_size=2,\n",
    "    random_state=8)\n",
    "\n",
    "x_valid, x_test, y_valid, y_test = train_test_split(\n",
    "    x_valid_test, \n",
    "    y_valid_test,\n",
    "    shuffle = True,\n",
    "    test_size=1,\n",
    "    random_state=8)\n"
   ]
  },
  {
   "cell_type": "code",
   "execution_count": 6,
   "metadata": {},
   "outputs": [
    {
     "name": "stdout",
     "output_type": "stream",
     "text": [
      "Training set :  3 \n",
      "\n",
      "Validation set :  1 \n",
      "\n",
      "Test set :  1\n"
     ]
    }
   ],
   "source": [
    "# 제대로 들어갔는지 확인 \n",
    "print ( \n",
    "    'Training set : ', len(x_train),\n",
    "    '\\n\\nValidation set : ', len(x_valid), \n",
    "    '\\n\\nTest set : ', len(x_test)\n",
    "    \n",
    ")"
   ]
  },
  {
   "cell_type": "markdown",
   "metadata": {},
   "source": [
    "# Data Augmentation"
   ]
  },
  {
   "cell_type": "code",
   "execution_count": 7,
   "metadata": {},
   "outputs": [],
   "source": [
    "import keras_image_preprocessing\n",
    "datagen = keras_image_preprocessing.ImageDataGenerator(\n",
    "                                        rotation_range=[10.,10.,10.],\n",
    "                                        zoom_range=[0.90, 1.10],\n",
    "                                        width_shift_range=0.10,\n",
    "                                        height_shift_range=0.10,\n",
    "                                        depth_shift_range=0.10,\n",
    "                                        shear_range=0.20,\n",
    "                                        horizontal_flip=False,\n",
    "                                        vertical_flip=False,\n",
    "                                        depthly_flip=False,\n",
    "                                        axis_transpose=False,\n",
    "                                        fill_mode='constant',cval=0.)"
   ]
  },
  {
   "cell_type": "code",
   "execution_count": 8,
   "metadata": {},
   "outputs": [],
   "source": [
    "def data_aug(img, label, color_reversal=True):\n",
    "    \n",
    "    seed = np.random.randint(100000)\n",
    "    img = np.transpose(img,(0,3,2,1,4))\n",
    "    img = img[:,:,::-1,:,:]\n",
    "    label = np.transpose(label,(0,3,2,1,4))\n",
    "    label = label[:,:,::-1,:,:]\n",
    "    for img in datagen.flow(img, batch_size=1, seed = seed ):\n",
    "        \n",
    "        if np.random.random() < 0.7:\n",
    "            img = img*(seed/100000)\n",
    "            \n",
    "        break\n",
    "        \n",
    "    for label in datagen.flow(label, batch_size=1, seed = seed):\n",
    "        \n",
    "        break\n",
    "    return img, label"
   ]
  },
  {
   "cell_type": "markdown",
   "metadata": {},
   "source": [
    "# 3D Unet Model "
   ]
  },
  {
   "cell_type": "code",
   "execution_count": 9,
   "metadata": {},
   "outputs": [],
   "source": [
    "def resize(data, img_dep=config[\"input_shape\"][0], img_cols=config[\"input_shape\"][1], img_rows=config[\"input_shape\"][2]):\n",
    "    resize_factor = (img_dep/data.shape[0], img_cols/data.shape[1], img_rows/data.shape[2])\n",
    "    data = ndimage.zoom(data, resize_factor, order=0, mode='constant', cval=0.0)\n",
    "    return data\n",
    "'''\n",
    "ndimage.zoom(어레이 데이터 인풋,축별로zoom factor. 숫자하나면 각축에 적용.,\n",
    "The order of the spline interpolation. 0-5까지 옵션있음 ,\n",
    "\n",
    "'''\n",
    "\n",
    "# loss function\n",
    "\n",
    "def dice_score(y_true, y_pred):\n",
    "    smooth = 1e-08\n",
    "    label_length = y_pred.get_shape().as_list()[-1] #the number of label (channel last)\n",
    "    \n",
    "    loss = 0    \n",
    "    for num_labels in range(label_length):\n",
    "        y_true_f = K.flatten(y_true[..., num_labels])\n",
    "        y_pred_f = K.flatten(y_pred[..., num_labels])\n",
    "        intersection = K.sum(y_true_f * y_pred_f)\n",
    "        if K.sum(y_true_f) == 0:\n",
    "            loss += (1- (K.sum(y_pred_f)/ K.sum(K.flatten(K.ones_like(y_true)))))\n",
    "        else:\n",
    "            loss += (2. * intersection + smooth) / (K.sum(y_true_f) + K.sum(y_pred_f) + smooth)\n",
    "   \n",
    "    return loss/label_length \n",
    "\n",
    "def dice_loss(y_true, y_pred):\n",
    "    return 1-dice_score(y_true, y_pred) # + 0.01*K.categorical_crossentropy(y_true, y_pred)\n",
    "'''\n",
    "Dice = (2*|X & Y|)/ (|X|+ |Y|)\n",
    "         =  2*sum(|A*B|)/(sum(A^2)+sum(B^2))\n",
    "    \n",
    "'''\n",
    "\n",
    "\n",
    "def tversky_loss(beta): # beta : [0,1] the bigger beta, the more penaly on False Positive\n",
    "    def t_loss(y_true, y_pred):\n",
    "        loss = 0\n",
    "        label_length = y_pred.get_shape().as_list()[-1] # the number of label (channel last)\n",
    "        smooth = 1e-08\n",
    "        \n",
    "        for num_labels in range(label_length):\n",
    "            y_true_f = K.flatten(y_true[..., num_labels])\n",
    "            y_pred_f = K.flatten(y_pred[..., num_labels])\n",
    "            numerator = K.sum(y_true_f * y_pred_f)\n",
    "            denominator = y_true_f * y_pred_f + beta * (1 - y_true_f) * y_pred_f + (1 - beta) * y_true_f * (1 - y_pred_f)\n",
    "            loss += (numerator+ smooth) / (K.sum(denominator) + smooth)\n",
    "        return 1-(loss / label_length) + 0.1*K.categorical_crossentropy(y_true, y_pred)\n",
    "        \n",
    "    return t_loss\n",
    "\n",
    "\n",
    "def focal_tversky(y_true,y_pred):\n",
    "    pt_1 = tversky_loss(0.7)(y_true, y_pred)\n",
    "    gamma = 0.75\n",
    "    return K.pow((1-pt_1), gamma)\n",
    "\n",
    "\n",
    "    \n",
    "# keras_contrib.layers.InstanceNormalization\n",
    "# https://github.com/keras-team/keras-contrib/blob/master/keras_contrib/layers/normalization/instancenormalization.py\n",
    "class InstanceNormalization(Layer):\n",
    "    \"\"\"Instance normalization layer.\n",
    "    Normalize the activations of the previous layer at each step,\n",
    "    i.e. applies a transformation that maintains the mean activation\n",
    "    close to 0 and the activation standard deviation close to 1.\n",
    "    # Arguments\n",
    "        axis: Integer, the axis that should be normalized\n",
    "            (typically the features axis).\n",
    "            For instance, after a `Conv2D` layer with\n",
    "            `data_format=\"channels_first\"`,\n",
    "            set `axis=1` in `InstanceNormalization`.\n",
    "            Setting `axis=None` will normalize all values in each\n",
    "            instance of the batch.\n",
    "            Axis 0 is the batch dimension. `axis` cannot be set to 0 to avoid errors.\n",
    "        epsilon: Small float added to variance to avoid dividing by zero.\n",
    "        center: If True, add offset of `beta` to normalized tensor.\n",
    "            If False, `beta` is ignored.\n",
    "        scale: If True, multiply by `gamma`.\n",
    "            If False, `gamma` is not used.\n",
    "            When the next layer is linear (also e.g. `nn.relu`),\n",
    "            this can be disabled since the scaling\n",
    "            will be done by the next layer.\n",
    "        beta_initializer: Initializer for the beta weight.\n",
    "        gamma_initializer: Initializer for the gamma weight.\n",
    "        beta_regularizer: Optional regularizer for the beta weight.\n",
    "        gamma_regularizer: Optional regularizer for the gamma weight.\n",
    "        beta_constraint: Optional constraint for the beta weight.\n",
    "        gamma_constraint: Optional constraint for the gamma weight.\n",
    "    # Input shape\n",
    "        Arbitrary. Use the keyword argument `input_shape`\n",
    "        (tuple of integers, does not include the samples axis)\n",
    "        when using this layer as the first layer in a Sequential model.\n",
    "    # Output shape\n",
    "        Same shape as input.\n",
    "    # References\n",
    "        - [Layer Normalization](https://arxiv.org/abs/1607.06450)\n",
    "        - [Instance Normalization: The Missing Ingredient for Fast Stylization](\n",
    "        https://arxiv.org/abs/1607.08022)\n",
    "    \"\"\"\n",
    "    def __init__(self,\n",
    "                 axis=None,\n",
    "                 epsilon=1e-3,\n",
    "                 center=True,\n",
    "                 scale=True,\n",
    "                 beta_initializer='zeros',\n",
    "                 gamma_initializer='ones',\n",
    "                 beta_regularizer=None,\n",
    "                 gamma_regularizer=None,\n",
    "                 beta_constraint=None,\n",
    "                 gamma_constraint=None,\n",
    "                 **kwargs):\n",
    "        super(InstanceNormalization, self).__init__(**kwargs)\n",
    "        self.supports_masking = True\n",
    "        self.axis = axis\n",
    "        self.epsilon = epsilon\n",
    "        self.center = center\n",
    "        self.scale = scale\n",
    "        self.beta_initializer = initializers.get(beta_initializer)\n",
    "        self.gamma_initializer = initializers.get(gamma_initializer)\n",
    "        self.beta_regularizer = regularizers.get(beta_regularizer)\n",
    "        self.gamma_regularizer = regularizers.get(gamma_regularizer)\n",
    "        self.beta_constraint = constraints.get(beta_constraint)\n",
    "        self.gamma_constraint = constraints.get(gamma_constraint)\n",
    "\n",
    "    def build(self, input_shape):\n",
    "        ndim = len(input_shape)\n",
    "        if self.axis == 0:\n",
    "            raise ValueError('Axis cannot be zero')\n",
    "\n",
    "        if (self.axis is not None) and (ndim == 2):\n",
    "            raise ValueError('Cannot specify axis for rank 1 tensor')\n",
    "\n",
    "        self.input_spec = InputSpec(ndim=ndim)\n",
    "\n",
    "        if self.axis is None:\n",
    "            shape = (1,)\n",
    "        else:\n",
    "            shape = (input_shape[self.axis],)\n",
    "\n",
    "        if self.scale:\n",
    "            self.gamma = self.add_weight(shape=shape,\n",
    "                                         name='gamma',\n",
    "                                         initializer=self.gamma_initializer,\n",
    "                                         regularizer=self.gamma_regularizer,\n",
    "                                         constraint=self.gamma_constraint)\n",
    "        else:\n",
    "            self.gamma = None\n",
    "        if self.center:\n",
    "            self.beta = self.add_weight(shape=shape,\n",
    "                                        name='beta',\n",
    "                                        initializer=self.beta_initializer,\n",
    "                                        regularizer=self.beta_regularizer,\n",
    "                                        constraint=self.beta_constraint)\n",
    "        else:\n",
    "            self.beta = None\n",
    "        self.built = True\n",
    "\n",
    "    def call(self, inputs, training=None):\n",
    "        input_shape = K.int_shape(inputs)\n",
    "        reduction_axes = list(range(0, len(input_shape)))\n",
    "\n",
    "        if self.axis is not None:\n",
    "            del reduction_axes[self.axis]\n",
    "\n",
    "        del reduction_axes[0]\n",
    "\n",
    "        mean = K.mean(inputs, reduction_axes, keepdims=True)\n",
    "        stddev = K.std(inputs, reduction_axes, keepdims=True) + self.epsilon\n",
    "        normed = (inputs - mean) / stddev\n",
    "\n",
    "        broadcast_shape = [1] * len(input_shape)\n",
    "        if self.axis is not None:\n",
    "            broadcast_shape[self.axis] = input_shape[self.axis]\n",
    "\n",
    "        if self.scale:\n",
    "            broadcast_gamma = K.reshape(self.gamma, broadcast_shape)\n",
    "            normed = normed * broadcast_gamma\n",
    "        if self.center:\n",
    "            broadcast_beta = K.reshape(self.beta, broadcast_shape)\n",
    "            normed = normed + broadcast_beta\n",
    "        return normed\n",
    "\n",
    "    def get_config(self):\n",
    "        config = {\n",
    "            'axis': self.axis,\n",
    "            'epsilon': self.epsilon,\n",
    "            'center': self.center,\n",
    "            'scale': self.scale,\n",
    "            'beta_initializer': initializers.serialize(self.beta_initializer),\n",
    "            'gamma_initializer': initializers.serialize(self.gamma_initializer),\n",
    "            'beta_regularizer': regularizers.serialize(self.beta_regularizer),\n",
    "            'gamma_regularizer': regularizers.serialize(self.gamma_regularizer),\n",
    "            'beta_constraint': constraints.serialize(self.beta_constraint),\n",
    "            'gamma_constraint': constraints.serialize(self.gamma_constraint)\n",
    "        }\n",
    "        base_config = super(InstanceNormalization, self).get_config()\n",
    "        return dict(list(base_config.items()) + list(config.items()))"
   ]
  },
  {
   "cell_type": "code",
   "execution_count": 10,
   "metadata": {},
   "outputs": [],
   "source": [
    "#InstanceNormalization\n",
    "def unet_model(input_shape, num_labels, axis=-1, base_filter=16, se_res_block=True, se_ratio=16, noise=0.1, atten_gate=False):\n",
    "    def conv3d(layer_input, filters, axis=-1, se_res_block=True, se_ratio=-1, down_sizing=True):\n",
    "        if down_sizing == True:\n",
    "            layer_input = MaxPooling3D(pool_size=(2, 2, 2))(layer_input)\n",
    "\n",
    "        d1 = Conv3D(filters, (3, 3, 3), use_bias=False, padding='same')(layer_input)\n",
    "        d1 = InstanceNormalization(axis=axis)(d1)\n",
    "        d1 = ReLU()(d1)\n",
    "        \n",
    "        d = Conv3D(filters, (3, 3, 3), use_bias=False, padding='same')(d1)\n",
    "        d = InstanceNormalization(axis=axis)(d)\n",
    "        if se_res_block == True:\n",
    "            se = GlobalAveragePooling3D()(d)\n",
    "            se = Dense(filters // se_ratio, activation='relu')(se)\n",
    "            se = Dense(filters, activation='sigmoid')(se)\n",
    "            se = Reshape([1, 1, 1, filters])(se)\n",
    "            d = Multiply()([d, se])\n",
    "            shortcut = InstanceNormalization(axis=axis)(d1)\n",
    "            d = add([d, shortcut])\n",
    "        d = ReLU()(d)\n",
    "        return d\n",
    "\n",
    "    def deconv3d(layer_input, skip_input, filters, axis=-1, se_res_block=True, se_ratio=8, atten_gate=False):\n",
    "        if atten_gate == True:\n",
    "            gating = Conv3D(filters, (1, 1, 1), use_bias=True,  padding='valid')(layer_input)\n",
    "            gating = InstanceNormalization(axis=axis)(gating)\n",
    "            attention = Conv3D(filters, (2, 2, 2), strides=(2, 2, 2), use_bias=False,  padding='valid')(skip_input)\n",
    "            attention = InstanceNormalization(axis=axis)(attention)\n",
    "            attention = add([gating, attention])\n",
    "            attention = ReLU()(attention)\n",
    "            attention = Conv3D(1, (1, 1, 1), use_bias=False, \n",
    "                               padding='same', activation='sigmoid')(attention)\n",
    "           \n",
    "            \n",
    "            attention = UpSampling3D((2, 2, 2))(attention)\n",
    "            attention = Lambda(lambda x: K.tile(\n",
    "                x, [1, 1, 1, 1, filters]))(attention)\n",
    "            skip_input = Multiply()([attention, skip_input])\n",
    "            \n",
    "        #one deconv \n",
    "        u1 = Conv3DTranspose(filters, (2, 2, 2), strides=(2, 2, 2), use_bias=False,  padding='same')(layer_input)\n",
    "        u1 = InstanceNormalization(axis=axis)(u1)\n",
    "        u1 = ReLU()(u1)\n",
    "        u1 = concatenate([u1, skip_input],axis=axis)\n",
    "        \n",
    "        #two conv \n",
    "        u2 = Conv3D(filters, (3, 3, 3), use_bias=False,  padding='same')(u1)     \n",
    "        u2 = InstanceNormalization(axis=axis)(u2)\n",
    "        u2 = ReLU()(u2)\n",
    "        u2 = Conv3D(filters, (3, 3, 3), use_bias=False,  padding='same')(u2)\n",
    "        u2 = InstanceNormalization(axis=axis)(u2)\n",
    "       \n",
    "        if se_res_block == True:\n",
    "            se = GlobalAveragePooling3D()(u2)\n",
    "            se = Reshape((1, 1, 1, filters))(se)\n",
    "            se = Dense(filters // se_ratio, activation='relu', use_bias=False)(se)\n",
    "            se = Dense(filters, activation='sigmoid', use_bias=False)(se)\n",
    "            se = Reshape([1, 1, 1, filters])(se)\n",
    "            se = Multiply()([u2, se])\n",
    "            u2 = add([u2, se])\n",
    "        u2 = ReLU()(u2)\n",
    "        \n",
    "       \n",
    "        return u2\n",
    "\n",
    "\n",
    "    \n",
    "    input_img = Input(shape=input_shape)\n",
    "    d0 = GaussianNoise(noise)(input_img)\n",
    "\n",
    "    d0 = conv3d(d0, base_filter, se_res_block=se_res_block, se_ratio=se_ratio, down_sizing=False) #original size\n",
    "    d1 = conv3d(d0, base_filter*2, se_res_block=se_res_block, se_ratio=se_ratio) # /2 \n",
    "    d2 = conv3d(d1, base_filter*4, se_res_block=se_res_block, se_ratio=se_ratio) # /4\n",
    "    d3 = conv3d(d2, base_filter*8, se_res_block=se_res_block, se_ratio=se_ratio) # /8 \n",
    "\n",
    "    u2 = deconv3d(d3, d2, base_filter*4, se_res_block=se_res_block, se_ratio=se_ratio)\n",
    "    u1 = deconv3d(u2, d1, base_filter*2, se_res_block=se_res_block, se_ratio=se_ratio)\n",
    "    u0 = deconv3d(u1, d0, base_filter, se_res_block=se_res_block, se_ratio=se_ratio)\n",
    "    \n",
    "    \n",
    "    output_img = Conv3D(num_labels, kernel_size=1, strides=1, \n",
    "                        padding='same', activation='softmax')(u0)\n",
    "    \n",
    "    \n",
    "\n",
    "    model = Model(inputs=input_img, outputs=output_img)   \n",
    "\n",
    "    return model"
   ]
  },
  {
   "cell_type": "code",
   "execution_count": 11,
   "metadata": {},
   "outputs": [
    {
     "name": "stdout",
     "output_type": "stream",
     "text": [
      "WARNING:tensorflow:From /home/jupyter/anaconda3/lib/python3.7/site-packages/keras/backend/tensorflow_backend.py:74: The name tf.get_default_graph is deprecated. Please use tf.compat.v1.get_default_graph instead.\n",
      "\n",
      "WARNING:tensorflow:From /home/jupyter/anaconda3/lib/python3.7/site-packages/keras/backend/tensorflow_backend.py:517: The name tf.placeholder is deprecated. Please use tf.compat.v1.placeholder instead.\n",
      "\n",
      "WARNING:tensorflow:From /home/jupyter/anaconda3/lib/python3.7/site-packages/keras/backend/tensorflow_backend.py:133: The name tf.placeholder_with_default is deprecated. Please use tf.compat.v1.placeholder_with_default instead.\n",
      "\n",
      "WARNING:tensorflow:From /home/jupyter/anaconda3/lib/python3.7/site-packages/keras/backend/tensorflow_backend.py:4115: The name tf.random_normal is deprecated. Please use tf.random.normal instead.\n",
      "\n",
      "WARNING:tensorflow:From /home/jupyter/anaconda3/lib/python3.7/site-packages/keras/backend/tensorflow_backend.py:4138: The name tf.random_uniform is deprecated. Please use tf.random.uniform instead.\n",
      "\n",
      "WARNING:tensorflow:From /home/jupyter/anaconda3/lib/python3.7/site-packages/keras/optimizers.py:790: The name tf.train.Optimizer is deprecated. Please use tf.compat.v1.train.Optimizer instead.\n",
      "\n"
     ]
    }
   ],
   "source": [
    "model = unet_model(input_shape=config[\"input_shape\"],\n",
    "                   num_labels=config[\"num_multilabel\"],\n",
    "                   base_filter=16,\n",
    "                   se_res_block=True,\n",
    "                   se_ratio=16,  \n",
    "                   atten_gate=True\n",
    "                   )\n",
    "\n",
    "\n",
    "model.compile(optimizer=Adam(lr=0.0002),loss=dice_loss, metrics=[dice_score])\n"
   ]
  },
  {
   "cell_type": "markdown",
   "metadata": {},
   "source": [
    "###  training function"
   ]
  },
  {
   "cell_type": "code",
   "execution_count": 12,
   "metadata": {},
   "outputs": [],
   "source": [
    "# 5D tensor (batch,img_dep,img_cols,img_rows,img_channel)\n",
    "def load_batch(x_list,y_list=[]):\n",
    "    \n",
    "    image = nib.load(x_list).get_fdata()\n",
    "#     image= x_list\n",
    "    if config[\"resizing\"] == True : \n",
    "        image = resize(image)\n",
    "        img_shape = image.shape\n",
    "    else:\n",
    "        img_shape = image.shape\n",
    "\n",
    "    image = np.reshape(image,(1 ,img_shape[0], img_shape[1], img_shape[2] , 1)) # batch, z ,y, x , ch\n",
    "    n_image = (image-np.min(image))/(np.max(image)-np.min(image))\n",
    "  \n",
    "    label=0\n",
    "    if y_list!=[]:\n",
    "        labels = nib.load(y_list).get_fdata()\n",
    "#         labels = labels.T\n",
    "#         labels = labels[:,::-1,:]\n",
    "        if config[\"resizing\"] == True : \n",
    "            labels = resize(labels)\n",
    "            lb_shape = labels.shape\n",
    "        else:\n",
    "            lb_shape = labels.shape\n",
    "            \n",
    "\n",
    "        onehot = to_categorical(labels)     \n",
    "        label = np.reshape(onehot,(1 ,lb_shape[0], lb_shape[1], lb_shape[2], config[\"num_multilabel\"] ))\n",
    "\n",
    "    \n",
    "     \n",
    "    return n_image,label\n",
    "       \n"
   ]
  },
  {
   "cell_type": "code",
   "execution_count": 13,
   "metadata": {},
   "outputs": [],
   "source": [
    "def train(x_train,y_train):\n",
    "    \n",
    "    train_dice = []\n",
    "    count=0\n",
    "    for i in range(len(x_train)):\n",
    "        image0, label0 = load_batch(x_train[i],y_train[i])\n",
    "        train_loss_tmp = model.train_on_batch(image0, label0) #original image training\n",
    "        train_dice.append(train_loss_tmp[1])\n",
    "        count+=1\n",
    "        \n",
    "        print( '\\r'+'\\033[91m'+ \"complete {} / {} average Metrics : {} , Metrics : {}\" \n",
    "                  .format(count, len(x_train)+len(x_train)*config['aug_index'], np.mean(np.array(train_dice)) ,train_loss_tmp[1] ) , end=\"\")\n",
    "        \n",
    "       \n",
    "        for index in range(config['aug_index']):     #train augmentation images as the number of config['aug_index']\n",
    "            image, label = data_aug(image0, label0)\n",
    "            train_loss_tmp = model.train_on_batch(image, label) \n",
    "            \n",
    "            train_dice.append(train_loss_tmp[1])\n",
    "            count+=1\n",
    "            \n",
    "            print(\"\\rcomplete {} / {} average Metrics : {} , Metrics : {}\" \n",
    "                  .format(count, len(x_train)+len(x_train)*config['aug_index'], np.mean(np.array(train_dice)) ,train_loss_tmp[1] ) , end=\"\")\n",
    "        \n",
    "    train_dice = np.mean(np.array(train_dice))\n",
    "    return train_dice\n",
    "\n",
    "def valid(x_valid,y_valid):\n",
    "    \n",
    "    valid_dice = []\n",
    "    for i in range(len(x_valid)):\n",
    "        image0, label0 = load_batch(x_valid[i],y_valid[i])\n",
    "        valid_loss_tmp = model.evaluate(image0,label0,verbose=0)\n",
    "        valid_dice.append(valid_loss_tmp[1])\n",
    "        for i in range(1):\n",
    "            image, label = data_aug(image0, label0)\n",
    "            \n",
    "\n",
    "            valid_loss_tmp = model.evaluate(image,label,verbose=0)\n",
    "            valid_dice.append(valid_loss_tmp[1])\n",
    "            \n",
    "    valid_dice = np.mean(np.array(valid_dice))\n",
    "    return valid_dice   \n",
    "\n",
    "def test(x_test,y_test):\n",
    "    \n",
    "    test_dice = []\n",
    "    for i in range(len(x_test)):\n",
    "        image, label = load_batch(x_test[i],y_test[i])\n",
    "        test_loss_tmp = model.evaluate(image,label,verbose=0)\n",
    "        test_dice.append(test_loss_tmp[1])\n",
    "            \n",
    "    #valid_dice = np.mean(np.array(valid_dice))\n",
    "    return test_dice   "
   ]
  },
  {
   "cell_type": "markdown",
   "metadata": {},
   "source": [
    "### check configuration"
   ]
  },
  {
   "cell_type": "code",
   "execution_count": 14,
   "metadata": {},
   "outputs": [
    {
     "data": {
      "text/plain": [
       "{'aug_index': 3,\n",
       " 'img_channel': 1,\n",
       " 'num_multilabel': 5,\n",
       " 'noise': 0.1,\n",
       " 'batch_size': 1,\n",
       " 'resizing': True,\n",
       " 'input_shape': [128, 128, 128, 1],\n",
       " 'epochs': 100,\n",
       " 'path_image': '/home/jupyter/project/cbvdamcct/image',\n",
       " 'path_label': '/home/jupyter/project/cbvdamcct/label'}"
      ]
     },
     "execution_count": 14,
     "metadata": {},
     "output_type": "execute_result"
    }
   ],
   "source": [
    "config"
   ]
  },
  {
   "cell_type": "markdown",
   "metadata": {},
   "source": [
    "# Train - model save"
   ]
  },
  {
   "cell_type": "code",
   "execution_count": 15,
   "metadata": {},
   "outputs": [],
   "source": [
    "model.load_weights('model_contour4.h5') # load only weight"
   ]
  },
  {
   "cell_type": "code",
   "execution_count": 16,
   "metadata": {
    "scrolled": true
   },
   "outputs": [
    {
     "name": "stdout",
     "output_type": "stream",
     "text": [
      "complete 12 / 12 average Metrics : 0.8130273222923279 , Metrics : 0.72732603549957288128\n",
      "Epochs 0 train: 0.813 valid: 0.830 [saved] \t 2020-11-18 14:52:07.433646\n",
      "\n",
      "\n",
      "complete 3 / 12 average Metrics : 0.8321819305419922 , Metrics : 0.820062160491943428125"
     ]
    },
    {
     "ename": "KeyboardInterrupt",
     "evalue": "",
     "output_type": "error",
     "traceback": [
      "\u001b[0;31m---------------------------------------------------------------------------\u001b[0m",
      "\u001b[0;31mKeyboardInterrupt\u001b[0m                         Traceback (most recent call last)",
      "\u001b[0;32m<ipython-input-16-d3bb3b43d99e>\u001b[0m in \u001b[0;36m<module>\u001b[0;34m\u001b[0m\n\u001b[1;32m      9\u001b[0m \u001b[0;34m\u001b[0m\u001b[0m\n\u001b[1;32m     10\u001b[0m     \u001b[0;31m# training\u001b[0m\u001b[0;34m\u001b[0m\u001b[0;34m\u001b[0m\u001b[0;34m\u001b[0m\u001b[0m\n\u001b[0;32m---> 11\u001b[0;31m     \u001b[0mtrain_dice\u001b[0m \u001b[0;34m=\u001b[0m \u001b[0mtrain\u001b[0m\u001b[0;34m(\u001b[0m\u001b[0mx_train\u001b[0m\u001b[0;34m,\u001b[0m\u001b[0my_train\u001b[0m\u001b[0;34m)\u001b[0m\u001b[0;34m\u001b[0m\u001b[0;34m\u001b[0m\u001b[0m\n\u001b[0m\u001b[1;32m     12\u001b[0m \u001b[0;34m\u001b[0m\u001b[0m\n\u001b[1;32m     13\u001b[0m     \u001b[0;31m# validation\u001b[0m\u001b[0;34m\u001b[0m\u001b[0;34m\u001b[0m\u001b[0;34m\u001b[0m\u001b[0m\n",
      "\u001b[0;32m<ipython-input-13-58d040f29422>\u001b[0m in \u001b[0;36mtrain\u001b[0;34m(x_train, y_train)\u001b[0m\n\u001b[1;32m     14\u001b[0m \u001b[0;34m\u001b[0m\u001b[0m\n\u001b[1;32m     15\u001b[0m         \u001b[0;32mfor\u001b[0m \u001b[0mindex\u001b[0m \u001b[0;32min\u001b[0m \u001b[0mrange\u001b[0m\u001b[0;34m(\u001b[0m\u001b[0mconfig\u001b[0m\u001b[0;34m[\u001b[0m\u001b[0;34m'aug_index'\u001b[0m\u001b[0;34m]\u001b[0m\u001b[0;34m)\u001b[0m\u001b[0;34m:\u001b[0m     \u001b[0;31m#train augmentation images as the number of config['aug_index']\u001b[0m\u001b[0;34m\u001b[0m\u001b[0;34m\u001b[0m\u001b[0m\n\u001b[0;32m---> 16\u001b[0;31m             \u001b[0mimage\u001b[0m\u001b[0;34m,\u001b[0m \u001b[0mlabel\u001b[0m \u001b[0;34m=\u001b[0m \u001b[0mdata_aug\u001b[0m\u001b[0;34m(\u001b[0m\u001b[0mimage0\u001b[0m\u001b[0;34m,\u001b[0m \u001b[0mlabel0\u001b[0m\u001b[0;34m)\u001b[0m\u001b[0;34m\u001b[0m\u001b[0;34m\u001b[0m\u001b[0m\n\u001b[0m\u001b[1;32m     17\u001b[0m             \u001b[0mtrain_loss_tmp\u001b[0m \u001b[0;34m=\u001b[0m \u001b[0mmodel\u001b[0m\u001b[0;34m.\u001b[0m\u001b[0mtrain_on_batch\u001b[0m\u001b[0;34m(\u001b[0m\u001b[0mimage\u001b[0m\u001b[0;34m,\u001b[0m \u001b[0mlabel\u001b[0m\u001b[0;34m)\u001b[0m\u001b[0;34m\u001b[0m\u001b[0;34m\u001b[0m\u001b[0m\n\u001b[1;32m     18\u001b[0m \u001b[0;34m\u001b[0m\u001b[0m\n",
      "\u001b[0;32m<ipython-input-8-3d30ef10c3ec>\u001b[0m in \u001b[0;36mdata_aug\u001b[0;34m(img, label, color_reversal)\u001b[0m\n\u001b[1;32m     13\u001b[0m         \u001b[0;32mbreak\u001b[0m\u001b[0;34m\u001b[0m\u001b[0;34m\u001b[0m\u001b[0m\n\u001b[1;32m     14\u001b[0m \u001b[0;34m\u001b[0m\u001b[0m\n\u001b[0;32m---> 15\u001b[0;31m     \u001b[0;32mfor\u001b[0m \u001b[0mlabel\u001b[0m \u001b[0;32min\u001b[0m \u001b[0mdatagen\u001b[0m\u001b[0;34m.\u001b[0m\u001b[0mflow\u001b[0m\u001b[0;34m(\u001b[0m\u001b[0mlabel\u001b[0m\u001b[0;34m,\u001b[0m \u001b[0mbatch_size\u001b[0m\u001b[0;34m=\u001b[0m\u001b[0;36m1\u001b[0m\u001b[0;34m,\u001b[0m \u001b[0mseed\u001b[0m \u001b[0;34m=\u001b[0m \u001b[0mseed\u001b[0m\u001b[0;34m)\u001b[0m\u001b[0;34m:\u001b[0m\u001b[0;34m\u001b[0m\u001b[0;34m\u001b[0m\u001b[0m\n\u001b[0m\u001b[1;32m     16\u001b[0m \u001b[0;34m\u001b[0m\u001b[0m\n\u001b[1;32m     17\u001b[0m         \u001b[0;32mbreak\u001b[0m\u001b[0;34m\u001b[0m\u001b[0;34m\u001b[0m\u001b[0m\n",
      "\u001b[0;32m~/project/model_training/keras_image_preprocessing.py\u001b[0m in \u001b[0;36m__next__\u001b[0;34m(self, *args, **kwargs)\u001b[0m\n\u001b[1;32m    623\u001b[0m \u001b[0;34m\u001b[0m\u001b[0m\n\u001b[1;32m    624\u001b[0m     \u001b[0;32mdef\u001b[0m \u001b[0m__next__\u001b[0m\u001b[0;34m(\u001b[0m\u001b[0mself\u001b[0m\u001b[0;34m,\u001b[0m \u001b[0;34m*\u001b[0m\u001b[0margs\u001b[0m\u001b[0;34m,\u001b[0m \u001b[0;34m**\u001b[0m\u001b[0mkwargs\u001b[0m\u001b[0;34m)\u001b[0m\u001b[0;34m:\u001b[0m\u001b[0;34m\u001b[0m\u001b[0;34m\u001b[0m\u001b[0m\n\u001b[0;32m--> 625\u001b[0;31m         \u001b[0;32mreturn\u001b[0m \u001b[0mself\u001b[0m\u001b[0;34m.\u001b[0m\u001b[0mnext\u001b[0m\u001b[0;34m(\u001b[0m\u001b[0;34m*\u001b[0m\u001b[0margs\u001b[0m\u001b[0;34m,\u001b[0m \u001b[0;34m**\u001b[0m\u001b[0mkwargs\u001b[0m\u001b[0;34m)\u001b[0m\u001b[0;34m\u001b[0m\u001b[0;34m\u001b[0m\u001b[0m\n\u001b[0m\u001b[1;32m    626\u001b[0m \u001b[0;34m\u001b[0m\u001b[0m\n\u001b[1;32m    627\u001b[0m \u001b[0;34m\u001b[0m\u001b[0m\n",
      "\u001b[0;32m~/project/model_training/keras_image_preprocessing.py\u001b[0m in \u001b[0;36mnext\u001b[0;34m(self)\u001b[0m\n\u001b[1;32m    658\u001b[0m         \u001b[0;32mfor\u001b[0m \u001b[0mi\u001b[0m\u001b[0;34m,\u001b[0m \u001b[0mj\u001b[0m \u001b[0;32min\u001b[0m \u001b[0menumerate\u001b[0m\u001b[0;34m(\u001b[0m\u001b[0mindex_array\u001b[0m\u001b[0;34m)\u001b[0m\u001b[0;34m:\u001b[0m\u001b[0;34m\u001b[0m\u001b[0;34m\u001b[0m\u001b[0m\n\u001b[1;32m    659\u001b[0m             \u001b[0mx\u001b[0m \u001b[0;34m=\u001b[0m \u001b[0mself\u001b[0m\u001b[0;34m.\u001b[0m\u001b[0mX\u001b[0m\u001b[0;34m[\u001b[0m\u001b[0mj\u001b[0m\u001b[0;34m]\u001b[0m\u001b[0;34m\u001b[0m\u001b[0;34m\u001b[0m\u001b[0m\n\u001b[0;32m--> 660\u001b[0;31m             \u001b[0mx\u001b[0m \u001b[0;34m=\u001b[0m \u001b[0mself\u001b[0m\u001b[0;34m.\u001b[0m\u001b[0mimage_data_generator\u001b[0m\u001b[0;34m.\u001b[0m\u001b[0mrandom_transform\u001b[0m\u001b[0;34m(\u001b[0m\u001b[0mx\u001b[0m\u001b[0;34m.\u001b[0m\u001b[0mastype\u001b[0m\u001b[0;34m(\u001b[0m\u001b[0;34m'float32'\u001b[0m\u001b[0;34m)\u001b[0m\u001b[0;34m)\u001b[0m\u001b[0;34m\u001b[0m\u001b[0;34m\u001b[0m\u001b[0m\n\u001b[0m\u001b[1;32m    661\u001b[0m             \u001b[0mx\u001b[0m \u001b[0;34m=\u001b[0m \u001b[0mself\u001b[0m\u001b[0;34m.\u001b[0m\u001b[0mimage_data_generator\u001b[0m\u001b[0;34m.\u001b[0m\u001b[0mstandardize\u001b[0m\u001b[0;34m(\u001b[0m\u001b[0mx\u001b[0m\u001b[0;34m)\u001b[0m\u001b[0;34m\u001b[0m\u001b[0;34m\u001b[0m\u001b[0m\n\u001b[1;32m    662\u001b[0m             \u001b[0mbatch_x\u001b[0m\u001b[0;34m[\u001b[0m\u001b[0mi\u001b[0m\u001b[0;34m]\u001b[0m \u001b[0;34m=\u001b[0m \u001b[0mx\u001b[0m\u001b[0;34m\u001b[0m\u001b[0;34m\u001b[0m\u001b[0m\n",
      "\u001b[0;32m~/project/model_training/keras_image_preprocessing.py\u001b[0m in \u001b[0;36mrandom_transform\u001b[0;34m(self, x)\u001b[0m\n\u001b[1;32m    470\u001b[0m         \u001b[0mtransform_matrix\u001b[0m \u001b[0;34m=\u001b[0m \u001b[0mtransform_matrix_offset_center\u001b[0m\u001b[0;34m(\u001b[0m\u001b[0mtransform_matrix\u001b[0m\u001b[0;34m,\u001b[0m \u001b[0md\u001b[0m\u001b[0;34m,\u001b[0m \u001b[0mw\u001b[0m\u001b[0;34m,\u001b[0m \u001b[0mh\u001b[0m\u001b[0;34m)\u001b[0m\u001b[0;34m\u001b[0m\u001b[0;34m\u001b[0m\u001b[0m\n\u001b[1;32m    471\u001b[0m         x = apply_transform(x, transform_matrix, img_channel_index,\n\u001b[0;32m--> 472\u001b[0;31m                             fill_mode=self.fill_mode, cval=self.cval)\n\u001b[0m\u001b[1;32m    473\u001b[0m         \u001b[0;32mif\u001b[0m \u001b[0mself\u001b[0m\u001b[0;34m.\u001b[0m\u001b[0mchannel_shift_range\u001b[0m \u001b[0;34m!=\u001b[0m \u001b[0;36m0\u001b[0m\u001b[0;34m:\u001b[0m\u001b[0;34m\u001b[0m\u001b[0;34m\u001b[0m\u001b[0m\n\u001b[1;32m    474\u001b[0m             \u001b[0mx\u001b[0m \u001b[0;34m=\u001b[0m \u001b[0mrandom_channel_shift\u001b[0m\u001b[0;34m(\u001b[0m\u001b[0mx\u001b[0m\u001b[0;34m,\u001b[0m \u001b[0mself\u001b[0m\u001b[0;34m.\u001b[0m\u001b[0mchannel_shift_range\u001b[0m\u001b[0;34m,\u001b[0m \u001b[0mimg_channel_index\u001b[0m\u001b[0;34m)\u001b[0m\u001b[0;34m\u001b[0m\u001b[0;34m\u001b[0m\u001b[0m\n",
      "\u001b[0;32m~/project/model_training/keras_image_preprocessing.py\u001b[0m in \u001b[0;36mapply_transform\u001b[0;34m(x, transform_matrix, channel_index, fill_mode, cval)\u001b[0m\n\u001b[1;32m    167\u001b[0m     \u001b[0mfinal_offset\u001b[0m \u001b[0;34m=\u001b[0m \u001b[0mtransform_matrix\u001b[0m\u001b[0;34m[\u001b[0m\u001b[0;34m:\u001b[0m\u001b[0;36m3\u001b[0m\u001b[0;34m,\u001b[0m \u001b[0;36m3\u001b[0m\u001b[0;34m]\u001b[0m\u001b[0;34m\u001b[0m\u001b[0;34m\u001b[0m\u001b[0m\n\u001b[1;32m    168\u001b[0m     channel_images = [ndi.interpolation.affine_transform(x_channel, final_affine_matrix,\n\u001b[0;32m--> 169\u001b[0;31m                       final_offset, order=0, mode=fill_mode, cval=cval) for x_channel in x]\n\u001b[0m\u001b[1;32m    170\u001b[0m     \u001b[0mx\u001b[0m \u001b[0;34m=\u001b[0m \u001b[0mnp\u001b[0m\u001b[0;34m.\u001b[0m\u001b[0mstack\u001b[0m\u001b[0;34m(\u001b[0m\u001b[0mchannel_images\u001b[0m\u001b[0;34m,\u001b[0m \u001b[0maxis\u001b[0m\u001b[0;34m=\u001b[0m\u001b[0;36m0\u001b[0m\u001b[0;34m)\u001b[0m\u001b[0;34m\u001b[0m\u001b[0;34m\u001b[0m\u001b[0m\n\u001b[1;32m    171\u001b[0m     \u001b[0mx\u001b[0m \u001b[0;34m=\u001b[0m \u001b[0mnp\u001b[0m\u001b[0;34m.\u001b[0m\u001b[0mrollaxis\u001b[0m\u001b[0;34m(\u001b[0m\u001b[0mx\u001b[0m\u001b[0;34m,\u001b[0m \u001b[0;36m0\u001b[0m\u001b[0;34m,\u001b[0m \u001b[0mchannel_index\u001b[0m\u001b[0;34m+\u001b[0m\u001b[0;36m1\u001b[0m\u001b[0;34m)\u001b[0m\u001b[0;34m\u001b[0m\u001b[0;34m\u001b[0m\u001b[0m\n",
      "\u001b[0;32m~/project/model_training/keras_image_preprocessing.py\u001b[0m in \u001b[0;36m<listcomp>\u001b[0;34m(.0)\u001b[0m\n\u001b[1;32m    167\u001b[0m     \u001b[0mfinal_offset\u001b[0m \u001b[0;34m=\u001b[0m \u001b[0mtransform_matrix\u001b[0m\u001b[0;34m[\u001b[0m\u001b[0;34m:\u001b[0m\u001b[0;36m3\u001b[0m\u001b[0;34m,\u001b[0m \u001b[0;36m3\u001b[0m\u001b[0;34m]\u001b[0m\u001b[0;34m\u001b[0m\u001b[0;34m\u001b[0m\u001b[0m\n\u001b[1;32m    168\u001b[0m     channel_images = [ndi.interpolation.affine_transform(x_channel, final_affine_matrix,\n\u001b[0;32m--> 169\u001b[0;31m                       final_offset, order=0, mode=fill_mode, cval=cval) for x_channel in x]\n\u001b[0m\u001b[1;32m    170\u001b[0m     \u001b[0mx\u001b[0m \u001b[0;34m=\u001b[0m \u001b[0mnp\u001b[0m\u001b[0;34m.\u001b[0m\u001b[0mstack\u001b[0m\u001b[0;34m(\u001b[0m\u001b[0mchannel_images\u001b[0m\u001b[0;34m,\u001b[0m \u001b[0maxis\u001b[0m\u001b[0;34m=\u001b[0m\u001b[0;36m0\u001b[0m\u001b[0;34m)\u001b[0m\u001b[0;34m\u001b[0m\u001b[0;34m\u001b[0m\u001b[0m\n\u001b[1;32m    171\u001b[0m     \u001b[0mx\u001b[0m \u001b[0;34m=\u001b[0m \u001b[0mnp\u001b[0m\u001b[0;34m.\u001b[0m\u001b[0mrollaxis\u001b[0m\u001b[0;34m(\u001b[0m\u001b[0mx\u001b[0m\u001b[0;34m,\u001b[0m \u001b[0;36m0\u001b[0m\u001b[0;34m,\u001b[0m \u001b[0mchannel_index\u001b[0m\u001b[0;34m+\u001b[0m\u001b[0;36m1\u001b[0m\u001b[0;34m)\u001b[0m\u001b[0;34m\u001b[0m\u001b[0;34m\u001b[0m\u001b[0m\n",
      "\u001b[0;32m~/anaconda3/lib/python3.7/site-packages/scipy/ndimage/interpolation.py\u001b[0m in \u001b[0;36maffine_transform\u001b[0;34m(input, matrix, offset, output_shape, output, order, mode, cval, prefilter)\u001b[0m\n\u001b[1;32m    484\u001b[0m     \u001b[0;32melse\u001b[0m\u001b[0;34m:\u001b[0m\u001b[0;34m\u001b[0m\u001b[0;34m\u001b[0m\u001b[0m\n\u001b[1;32m    485\u001b[0m         _nd_image.geometric_transform(filtered, None, None, matrix, offset,\n\u001b[0;32m--> 486\u001b[0;31m                                       output, order, mode, cval, None, None)\n\u001b[0m\u001b[1;32m    487\u001b[0m     \u001b[0;32mreturn\u001b[0m \u001b[0moutput\u001b[0m\u001b[0;34m\u001b[0m\u001b[0;34m\u001b[0m\u001b[0m\n\u001b[1;32m    488\u001b[0m \u001b[0;34m\u001b[0m\u001b[0m\n",
      "\u001b[0;31mKeyboardInterrupt\u001b[0m: "
     ]
    }
   ],
   "source": [
    "score_check = [0.]\n",
    "for num_epoch in range(config[\"epochs\"]):\n",
    "        \n",
    "    # shuffling training set \n",
    "    combined = list(zip(x_train, y_train))\n",
    "    random.shuffle(combined)\n",
    "    x_train[:], y_train[:] = zip(*combined)\n",
    "\n",
    "    \n",
    "    # training\n",
    "    train_dice = train(x_train,y_train)\n",
    "\n",
    "    # validation\n",
    "    valid_dice = valid(x_valid,y_valid)\n",
    "    \n",
    "    \n",
    "    # model save when validation dice coef. improved\n",
    "    if np.max(score_check) < valid_dice: \n",
    "        model.save('model_contour4.h5')\n",
    "        print('\\nEpochs',num_epoch,'train:',f'{train_dice:.3f}','valid:',f'{valid_dice:.3f}','[saved]', \"\\t\", dt.datetime.now())\n",
    "    else:\n",
    "        print('\\nEpochs',num_epoch,'train:',f'{train_dice:.3f}','valid:',f'{valid_dice:.3f}', \"\\t\", dt.datetime.now())\n",
    "    \n",
    "    score_check.append(valid_dice)\n",
    "    print('\\n')\n",
    "    \n",
    "    #early stop option: if there is no improvement during the last 5 epochs, the learning stops.\n",
    "    if np.max(score_check[-5:]) < np.max(score_check): \n",
    "        \n",
    "        break\n",
    "        \n",
    "\n",
    "model.save('model_model_contour_last.h5') # save model at last epoch"
   ]
  },
  {
   "cell_type": "markdown",
   "metadata": {},
   "source": [
    "# Model test -test set(labeled data) evaluation\n",
    "\n"
   ]
  },
  {
   "cell_type": "code",
   "execution_count": 17,
   "metadata": {},
   "outputs": [],
   "source": [
    "# onehot results -> argmax\n",
    "def onehot2label (onehot_array) :\n",
    "    onehot_array = np.argmax(onehot_array,axis=-1)\n",
    "    label=onehot_array[...,np.newaxis]\n",
    "\n",
    "    return label"
   ]
  },
  {
   "cell_type": "code",
   "execution_count": 18,
   "metadata": {},
   "outputs": [],
   "source": [
    "def view_result (test_num, *args):\n",
    "    i = test_num\n",
    "    \n",
    "    \n",
    "    image, label =load_batch(x_test[i],y_test[i])\n",
    "\n",
    "\n",
    "    results = model.predict(image)\n",
    "    \n",
    "    \n",
    "    groundtruth = onehot2label(label)\n",
    "    pred = onehot2label(results)\n",
    "\n",
    "    \n",
    "    cmap = colors.ListedColormap(['None', 'red', 'purple', 'blue', 'yellow', 'green']) #rigt eye 1, left eye 2, nose 3, right ear 4, left ear5\n",
    "    bounds=[0,1,2,3,4,5,6]\n",
    "    norm = colors.BoundaryNorm(bounds, cmap.N)\n",
    "\n",
    "   \n",
    "    for num_slice in args : \n",
    "        plt.figure(figsize=(15,10))\n",
    "        plt.subplot(2,2,1)\n",
    "        plt.title('GroundTruth axial = {}'.format(num_slice))\n",
    "\n",
    "        plt.imshow(image[0,:,num_slice,:,0],cmap='gray')\n",
    "\n",
    "        plt.imshow(groundtruth[0,:,num_slice,:,0],alpha=0.5,cmap=cmap, norm=norm)\n",
    "        plt.subplot(2,2,2)\n",
    "        plt.title('Prediction {}'.format(num_slice))\n",
    "\n",
    "        plt.imshow(image[0,:,num_slice,:,0],cmap='gray')\n",
    "        plt.imshow(pred[0,:,num_slice,:,0],alpha=0.5,cmap=cmap, norm=norm)\n",
    "\n",
    "        print(\"axial = {}\".format(num_slice),\"\\nprediction = \",set(list(pred[0,:,num_slice,:,0].flatten())))\n",
    "        print(\"ground truth = \", set(list(groundtruth[0,:,num_slice,:,0].flatten())))\n",
    "        print(\"\\n\")\n"
   ]
  },
  {
   "cell_type": "code",
   "execution_count": 19,
   "metadata": {},
   "outputs": [
    {
     "name": "stdout",
     "output_type": "stream",
     "text": [
      "axial = 30 \n",
      "prediction =  {0, 4}\n",
      "ground truth =  {0, 3, 4}\n",
      "\n",
      "\n",
      "axial = 40 \n",
      "prediction =  {0, 2, 3}\n",
      "ground truth =  {0, 2, 3}\n",
      "\n",
      "\n",
      "axial = 65 \n",
      "prediction =  {0, 1, 3}\n",
      "ground truth =  {0, 1, 3}\n",
      "\n",
      "\n"
     ]
    },
    {
     "data": {
      "image/png": "[encoded data removed]",
      "text/plain": [
       "<Figure size 1080x720 with 2 Axes>"
      ]
     },
     "metadata": {
      "needs_background": "light"
     },
     "output_type": "display_data"
    },
    {
     "data": {
      "image/png": "[encoded data removed]",
      "text/plain": [
       "<Figure size 1080x720 with 2 Axes>"
      ]
     },
     "metadata": {
      "needs_background": "light"
     },
     "output_type": "display_data"
    },
    {
     "data": {
      "image/png": "[encoded data removed]",
      "text/plain": [
       "<Figure size 1080x720 with 2 Axes>"
      ]
     },
     "metadata": {
      "needs_background": "light"
     },
     "output_type": "display_data"
    }
   ],
   "source": [
    "view_result(0,*(30,40,65)) "
   ]
  },
  {
   "cell_type": "markdown",
   "metadata": {},
   "source": [
    "# EOF"
   ]
  }
 ],
 "metadata": {
  "kernelspec": {
   "display_name": "Python 3",
   "language": "python",
   "name": "python3"
  },
  "language_info": {
   "codemirror_mode": {
    "name": "ipython",
    "version": 3
   },
   "file_extension": ".py",
   "mimetype": "text/x-python",
   "name": "python",
   "nbconvert_exporter": "python",
   "pygments_lexer": "ipython3",
   "version": "3.7.3"
  }
 },
 "nbformat": 4,
 "nbformat_minor": 4
}
